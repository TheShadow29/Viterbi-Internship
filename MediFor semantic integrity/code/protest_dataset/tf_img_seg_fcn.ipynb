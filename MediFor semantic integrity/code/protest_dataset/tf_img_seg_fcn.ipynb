{
 "cells": [
  {
   "cell_type": "markdown",
   "metadata": {},
   "source": [
    "From https://github.com/warmspringwinds/tf-image-segmentation"
   ]
  },
  {
   "cell_type": "code",
   "execution_count": 1,
   "metadata": {
    "collapsed": true
   },
   "outputs": [],
   "source": [
    "%matplotlib inline\n",
    "import os\n",
    "import sys\n",
    "import tensorflow as tf\n",
    "import skimage.io as io\n",
    "import numpy as np\n",
    "\n",
    "# sys.path.append(\"tf-image-segmentation/\")\n",
    "sys.path.append('/home/arka_s/internship_files/image_segmentation/tf-image-segmentation/')\n",
    "# sys.path.append(\"/home/dpakhom1/workspace/my_models/slim/\")\n",
    "sys.path.append('/home/arka_s/internship_files/image_segmentation/models/slim/')\n",
    "\n",
    "# fcn_16s_checkpoint_path = \\\n",
    "#  '/home/dpakhom1/tf_projects/segmentation/model_fcn8s_final.ckpt'\n",
    "\n",
    "fcn_16s_checkpoint_path = '/home/arka_s/internship_files/image_segmentation/fcn_8s_checkpoint/model_fcn8s_final.ckpt'\n",
    "\n",
    "\n",
    "os.environ[\"CUDA_VISIBLE_DEVICES\"] = '1'\n",
    "\n",
    "slim = tf.contrib.slim\n",
    "\n",
    "from tf_image_segmentation.models.fcn_8s import FCN_8s\n",
    "from tf_image_segmentation.utils.inference import adapt_network_for_any_size_input\n",
    "from tf_image_segmentation.utils.pascal_voc import pascal_segmentation_lut\n",
    "\n",
    "number_of_classes = 21"
   ]
  },
  {
   "cell_type": "code",
   "execution_count": 2,
   "metadata": {
    "collapsed": true
   },
   "outputs": [],
   "source": [
    "# image_filename = 'me.jpg'\n",
    "# image_filename = '../../data/nimble17_data/cluster_folder/0/1657074819a8525b50a1c375716d252f.png'\n",
    "#image_filename = 'small_cat.jpg'\n",
    "# image_filename = '../../data/protest_data/cropped/direct_cropped/beach_mdf_cropped_019.jpg'\n",
    "image_filename = '../../data/protest_data/only_text/beach_mdf_019/0.png'\n",
    "\n",
    "image_filename_placeholder = tf.placeholder(tf.string)\n",
    "\n",
    "feed_dict_to_use = {image_filename_placeholder: image_filename}\n",
    "\n",
    "image_tensor = tf.read_file(image_filename_placeholder)\n",
    "if image_filename[-4:] == '.jpg':\n",
    "    image_tensor = tf.image.decode_jpeg(image_tensor, channels=3)\n",
    "elif image_filename[-4:] == '.png':\n",
    "    image_tensor = tf.image.decode_png(image_tensor, channels=3)\n",
    "\n",
    "# Fake batch for image and annotation by adding\n",
    "# leading empty axis.\n",
    "image_batch_tensor = tf.expand_dims(image_tensor, axis=0)\n",
    "\n",
    "# Be careful: after adaptation, network returns final labels\n",
    "# and not logits\n",
    "FCN_8s = adapt_network_for_any_size_input(FCN_8s, 32)\n",
    "\n",
    "\n",
    "pred, fcn_16s_variables_mapping = FCN_8s(image_batch_tensor=image_batch_tensor,\n",
    "                                          number_of_classes=number_of_classes,\n",
    "                                          is_training=False)\n",
    "\n",
    "# The op for initializing the variables.\n",
    "initializer = tf.local_variables_initializer()\n",
    "\n",
    "saver = tf.train.Saver()"
   ]
  },
  {
   "cell_type": "code",
   "execution_count": 3,
   "metadata": {},
   "outputs": [
    {
     "name": "stdout",
     "output_type": "stream",
     "text": [
      "INFO:tensorflow:Restoring parameters from /home/arka_s/internship_files/image_segmentation/fcn_8s_checkpoint/model_fcn8s_final.ckpt\n"
     ]
    }
   ],
   "source": [
    "# with tf.Session() as sess:\n",
    "sess = tf.Session()\n",
    "sess.run(initializer)\n",
    "\n",
    "#     saver.restore(sess,\n",
    "#      \"/home/dpakhom1/tf_projects/segmentation/model_fcn8s_final.ckpt\")\n",
    "saver.restore(sess, \n",
    "                 '/home/arka_s/internship_files/image_segmentation/fcn_8s_checkpoint/model_fcn8s_final.ckpt')\n",
    "#     image_np, pred_np = sess.run([image_tensor, pred], feed_dict=feed_dict_to_use)\n",
    "    \n",
    "#     io.imshow(image_np)\n",
    "#     io.show()\n",
    "    \n",
    "#     io.imshow(pred_np.squeeze())\n",
    "#     io.show()"
   ]
  },
  {
   "cell_type": "code",
   "execution_count": 4,
   "metadata": {
    "collapsed": true
   },
   "outputs": [],
   "source": [
    "image_np, pred_np = sess.run([image_tensor, pred], feed_dict=feed_dict_to_use)"
   ]
  },
  {
   "cell_type": "code",
   "execution_count": 5,
   "metadata": {},
   "outputs": [
    {
     "data": {
      "image/png": "[encoded data removed]",
      "text/plain": [
       "<matplotlib.figure.Figure at 0x7f7a6983ad50>"
      ]
     },
     "metadata": {},
     "output_type": "display_data"
    },
    {
     "data": {
      "image/png": "[encoded data removed]",
      "text/plain": [
       "<matplotlib.figure.Figure at 0x7f7a693fec50>"
      ]
     },
     "metadata": {},
     "output_type": "display_data"
    }
   ],
   "source": [
    "io.imshow(image_np)\n",
    "io.show()\n",
    "\n",
    "io.imshow(pred_np.squeeze())\n",
    "io.show()"
   ]
  },
  {
   "cell_type": "code",
   "execution_count": null,
   "metadata": {
    "collapsed": true
   },
   "outputs": [],
   "source": [
    "with tf.Session() as sess:\n",
    "    \n",
    "    sess.run(initializer)\n",
    "\n",
    "    saver.restore(sess, \n",
    "                 '/home/arka_s/internship_files/image_segmentation/fcn_8s_checkpoint/model_fcn8s_final.ckpt')\n",
    "    image_np, pred_np = sess.run([image_tensor, pred], feed_dict=feed_dict_to_use)\n",
    "    \n",
    "    io.imshow(image_np)\n",
    "    io.show()\n",
    "    \n",
    "    io.imshow(pred_np.squeeze())\n",
    "    io.show()"
   ]
  },
  {
   "cell_type": "code",
   "execution_count": null,
   "metadata": {},
   "outputs": [],
   "source": [
    "%matplotlib\n",
    "from __future__ import division\n",
    "import os\n",
    "import sys\n",
    "import tensorflow as tf\n",
    "import skimage.io as io\n",
    "import numpy as np"
   ]
  },
  {
   "cell_type": "code",
   "execution_count": null,
   "metadata": {
    "collapsed": true
   },
   "outputs": [],
   "source": [
    "sys.path.append('/home/arka_s/internship_files/image_segmentation/tf-image-segmentation/')\n",
    "sys.path.append('/home/arka_s/internship_files/image_segmentation/models/slim/')"
   ]
  },
  {
   "cell_type": "code",
   "execution_count": null,
   "metadata": {
    "collapsed": true
   },
   "outputs": [],
   "source": [
    "fcn_8s_checkpoint_path = '/home/arka_s/internship_files/image_segmentation/fcn_8s_checkpoint/model_fcn8s_final.ckpt'"
   ]
  },
  {
   "cell_type": "code",
   "execution_count": null,
   "metadata": {
    "collapsed": true
   },
   "outputs": [],
   "source": [
    "os.environ[\"CUDA_VISIBLE_DEVICES\"] = '1'"
   ]
  },
  {
   "cell_type": "code",
   "execution_count": null,
   "metadata": {
    "collapsed": true
   },
   "outputs": [],
   "source": [
    "slim = tf.contrib.slim"
   ]
  },
  {
   "cell_type": "code",
   "execution_count": null,
   "metadata": {
    "collapsed": true
   },
   "outputs": [],
   "source": [
    "from tf_image_segmentation.models.fcn_8s import FCN_8s\n",
    "from tf_image_segmentation.utils.inference import adapt_network_for_any_size_input\n",
    "from tf_image_segmentation.utils.pascal_voc import pascal_segmentation_lut"
   ]
  },
  {
   "cell_type": "code",
   "execution_count": null,
   "metadata": {
    "collapsed": true
   },
   "outputs": [],
   "source": [
    "number_of_classes = 21\n",
    "img_fname = '../../data/nimble17_data/cluster_folder/0/1657074819a8525b50a1c375716d252f.png'\n",
    "img_fname_placeholder = tf.placeholder(tf.string)\n",
    "feed_dict_to_use = {img_fname_placeholder : img_fname}\n",
    "img_tensor = tf.read_file(img_fname_placeholder)\n",
    "img_tensor = tf.image.decode_png(img_tensor, channels=3)"
   ]
  },
  {
   "cell_type": "code",
   "execution_count": null,
   "metadata": {
    "scrolled": true
   },
   "outputs": [],
   "source": [
    "# Fake batch for image and annotation by adding\n",
    "# leading empty axis.\n",
    "img_batch_tensor = tf.expand_dims(img_tensor, axis=0)\n",
    "\n",
    "# Be careful: after adaptation, network returns final labels\n",
    "# and not logits\n",
    "FCN_8s = adapt_network_for_any_size_input(FCN_8s, 32)\n",
    "pred, fcn_16s_variables_mapping = FCN_8s(image_batch_tensor=img_batch_tensor,\n",
    "                                          number_of_classes=number_of_classes,\n",
    "                                          is_training=False)"
   ]
  },
  {
   "cell_type": "code",
   "execution_count": null,
   "metadata": {},
   "outputs": [],
   "source": [
    "initializer = tf.local_variables_initializer()\n",
    "\n",
    "saver = tf.train.Saver()\n",
    "\n",
    "with tf.Session() as sess:\n",
    "    \n",
    "    sess.run(initializer)\n",
    "\n",
    "    saver.restore(sess,'/home/arka_s/internship_files/image_segmentation/fcn_8s_checkpoint/model_fcn8s_final.ckpt.data-00000-of-00001')\n",
    "    \n",
    "    image_np, pred_np = sess.run([image_tensor, pred], feed_dict=feed_dict_to_use)\n",
    "    \n",
    "    io.imshow(image_np)\n",
    "    io.show()\n",
    "    \n",
    "    io.imshow(pred_np.squeeze())\n",
    "    io.show()"
   ]
  }
 ],
 "metadata": {
  "kernelspec": {
   "display_name": "Python 2",
   "language": "python",
   "name": "python2"
  },
  "language_info": {
   "codemirror_mode": {
    "name": "ipython",
    "version": 2
   },
   "file_extension": ".py",
   "mimetype": "text/x-python",
   "name": "python",
   "nbconvert_exporter": "python",
   "pygments_lexer": "ipython2",
   "version": "2.7.12"
  }
 },
 "nbformat": 4,
 "nbformat_minor": 2
}
