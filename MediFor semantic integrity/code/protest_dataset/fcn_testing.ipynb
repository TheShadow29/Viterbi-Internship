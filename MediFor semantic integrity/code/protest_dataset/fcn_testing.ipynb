{
 "cells": [
  {
   "cell_type": "code",
   "execution_count": 35,
   "metadata": {},
   "outputs": [
    {
     "name": "stdout",
     "output_type": "stream",
     "text": [
      "Using matplotlib backend: TkAgg\n"
     ]
    }
   ],
   "source": [
    "import sys\n",
    "sys.path.append('/home/arka_s/Caffe/cf00/caffe/python/')\n",
    "import caffe\n",
    "import os\n",
    "import caffe\n",
    "import skimage.io as skio\n",
    "import numpy as np\n",
    "%matplotlib"
   ]
  },
  {
   "cell_type": "code",
   "execution_count": 21,
   "metadata": {
    "collapsed": true
   },
   "outputs": [],
   "source": [
    "# caffe_model_tdir = '/home/arka_s/internship_files/fcn.berkeleyvision.org/voc-fcn-alexnet/'\n",
    "caffe_model_tdir = '/home/arka_s/internship_files/fcn.berkeleyvision.org/voc-fcn8s/'\n",
    "des = 'deploy.prototxt'\n",
    "we = 'fcn8s-heavy-pascal.caffemodel'\n",
    "# des = 'train_new.prototxt'\n",
    "#we = 'fcn-alexnet-pascal.caffemodel'"
   ]
  },
  {
   "cell_type": "code",
   "execution_count": 27,
   "metadata": {
    "collapsed": true
   },
   "outputs": [],
   "source": [
    "net = caffe.Net(caffe_model_tdir + des, caffe_model_tdir + we, caffe.TEST)"
   ]
  },
  {
   "cell_type": "code",
   "execution_count": 28,
   "metadata": {},
   "outputs": [],
   "source": [
    "import two_imgs_matcher\n",
    "ilsvrc_mean_path = '/home/arka_s/Caffe/caffe/python/caffe/imagenet/ilsvrc_2012_mean.npy'\n",
    "skio.use_plugin('matplotlib')\n",
    "# transformer\n",
    "transformer = caffe.io.Transformer({'data': net.blobs['data'].data.shape})\n",
    "transformer.set_mean('data', np.load(ilsvrc_mean_path).mean(1).mean(1))\n",
    "transformer.set_transpose('data', (2, 0, 1))\n",
    "transformer.set_channel_swap('data', (2, 1, 0))\n",
    "transformer.set_raw_scale('data', 255.0)\n",
    "net.blobs['data'].reshape(2, 3, 500, 500)"
   ]
  },
  {
   "cell_type": "code",
   "execution_count": 29,
   "metadata": {
    "scrolled": true
   },
   "outputs": [
    {
     "data": {
      "text/plain": [
       "['data',\n",
       " 'data_input_0_split_0',\n",
       " 'data_input_0_split_1',\n",
       " 'conv1_1',\n",
       " 'conv1_2',\n",
       " 'pool1',\n",
       " 'conv2_1',\n",
       " 'conv2_2',\n",
       " 'pool2',\n",
       " 'conv3_1',\n",
       " 'conv3_2',\n",
       " 'conv3_3',\n",
       " 'pool3',\n",
       " 'pool3_pool3_0_split_0',\n",
       " 'pool3_pool3_0_split_1',\n",
       " 'conv4_1',\n",
       " 'conv4_2',\n",
       " 'conv4_3',\n",
       " 'pool4',\n",
       " 'pool4_pool4_0_split_0',\n",
       " 'pool4_pool4_0_split_1',\n",
       " 'conv5_1',\n",
       " 'conv5_2',\n",
       " 'conv5_3',\n",
       " 'pool5',\n",
       " 'fc6',\n",
       " 'fc7',\n",
       " 'score_fr',\n",
       " 'upscore2',\n",
       " 'upscore2_upscore2_0_split_0',\n",
       " 'upscore2_upscore2_0_split_1',\n",
       " 'score_pool4',\n",
       " 'score_pool4c',\n",
       " 'fuse_pool4',\n",
       " 'upscore_pool4',\n",
       " 'upscore_pool4_upscore_pool4_0_split_0',\n",
       " 'upscore_pool4_upscore_pool4_0_split_1',\n",
       " 'score_pool3',\n",
       " 'score_pool3c',\n",
       " 'fuse_pool3',\n",
       " 'upscore8',\n",
       " 'score']"
      ]
     },
     "execution_count": 29,
     "metadata": {},
     "output_type": "execute_result"
    }
   ],
   "source": [
    "net.blobs.keys()"
   ]
  },
  {
   "cell_type": "code",
   "execution_count": 41,
   "metadata": {},
   "outputs": [],
   "source": [
    "layer = 'score'\n",
    "# img1_path = '../../data/protest_data/cropped/direct_cropped/beach_mdf_cropped_019.jpg'\n",
    "# img2_path = '/home/nkovvuri/Rama_Work/dataset/Protest_Images/Pruned_Protest_YFCCImages/protest_img_019.jpg'\n",
    "img1_path = '../../data/nimble17_data/cluster_folder/0/1657074819a8525b50a1c375716d252f.png'\n",
    "img2_path = '../../data/nimble17_data/cluster_folder/1/105f2ee8d268d7f7de010dede0899c0d.png'\n",
    "# a1 = two_imgs_matcher.are_the_two_imgs_same(img1, img2, transformer, net, layer)\n",
    "# print(a1[5])\n",
    "im1 = caffe.io.load_image(img1_path)\n",
    "im2 = caffe.io.load_image(img2_path)\n",
    "net.blobs['data'].data[0, :, :, :] = transformer.preprocess('data', im1)\n",
    "net.blobs['data'].data[1, :, :, :] = transformer.preprocess('data', im2)\n",
    "out = net.forward()\n"
   ]
  },
  {
   "cell_type": "code",
   "execution_count": 31,
   "metadata": {},
   "outputs": [
    {
     "data": {
      "text/plain": [
       "(21, 500, 500)"
      ]
     },
     "execution_count": 31,
     "metadata": {},
     "output_type": "execute_result"
    }
   ],
   "source": [
    "net.blobs['score'].data[0].shape"
   ]
  },
  {
   "cell_type": "code",
   "execution_count": 48,
   "metadata": {},
   "outputs": [
    {
     "data": {
      "text/plain": [
       "<matplotlib.image.AxesImage at 0x7f6818555910>"
      ]
     },
     "execution_count": 48,
     "metadata": {},
     "output_type": "execute_result"
    }
   ],
   "source": [
    "a1 = net.blobs['upscore8'].data[0]\n",
    "a2 = a1[0]\n",
    "skio.imshow(img1_path)\n",
    "# skio.imshow(a2, cmap='gray')"
   ]
  }
 ],
 "metadata": {
  "kernelspec": {
   "display_name": "Python 2",
   "language": "python",
   "name": "python2"
  },
  "language_info": {
   "codemirror_mode": {
    "name": "ipython",
    "version": 2
   },
   "file_extension": ".py",
   "mimetype": "text/x-python",
   "name": "python",
   "nbconvert_exporter": "python",
   "pygments_lexer": "ipython2",
   "version": "2.7.12"
  }
 },
 "nbformat": 4,
 "nbformat_minor": 2
}
