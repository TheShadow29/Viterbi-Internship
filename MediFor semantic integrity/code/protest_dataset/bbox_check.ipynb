{
 "cells": [
  {
   "cell_type": "code",
   "execution_count": 25,
   "metadata": {},
   "outputs": [
    {
     "name": "stdout",
     "output_type": "stream",
     "text": [
      "Using matplotlib backend: TkAgg\n"
     ]
    }
   ],
   "source": [
    "%matplotlib\n",
    "import pickle\n",
    "import matplotlib.pyplot as plt\n",
    "import matplotlib.patches as mpatches\n",
    "import os\n",
    "import skimage\n",
    "import skimage.io as skio\n",
    "# import random\n",
    "import scipy.io as sio"
   ]
  },
  {
   "cell_type": "code",
   "execution_count": 5,
   "metadata": {
    "collapsed": true
   },
   "outputs": [],
   "source": [
    "dict_bbox = pickle.load(open('../../data/protest_data/code_manip_bbox_dict.pkl', 'rb'))"
   ]
  },
  {
   "cell_type": "code",
   "execution_count": 4,
   "metadata": {
    "collapsed": true
   },
   "outputs": [],
   "source": [
    "img_tdir = '/arka_data/places_data/copied_data/'\n",
    "f = os.listdir(img_tdir)"
   ]
  },
  {
   "cell_type": "code",
   "execution_count": 19,
   "metadata": {},
   "outputs": [
    {
     "name": "stdout",
     "output_type": "stream",
     "text": [
      "[ 11 102 128 128]\n"
     ]
    }
   ],
   "source": [
    "random.seed(1)\n",
    "ind = int(random.random() * len(f))\n",
    "f1 = f[ind]\n",
    "ar1 = dict_bbox[f1]\n",
    "print ar1"
   ]
  },
  {
   "cell_type": "code",
   "execution_count": 24,
   "metadata": {},
   "outputs": [
    {
     "data": {
      "text/plain": [
       "<matplotlib.patches.Rectangle at 0x7f36f27e8e10>"
      ]
     },
     "execution_count": 24,
     "metadata": {},
     "output_type": "execute_result"
    }
   ],
   "source": [
    "fig, ax = plt.subplots(1)\n",
    "ax.imshow(skio.imread(img_tdir + f1))\n",
    "rect = mpatches.Rectangle((ar1[0]-1, ar1[1]-1), ar1[2], ar1[3], edgecolor='red', facecolor='none')\n",
    "ax.add_patch(rect)"
   ]
  },
  {
   "cell_type": "code",
   "execution_count": 23,
   "metadata": {},
   "outputs": [
    {
     "data": {
      "text/plain": [
       "array([ 11, 102, 128, 128])"
      ]
     },
     "execution_count": 23,
     "metadata": {},
     "output_type": "execute_result"
    }
   ],
   "source": [
    "ar1"
   ]
  },
  {
   "cell_type": "code",
   "execution_count": 105,
   "metadata": {
    "collapsed": true
   },
   "outputs": [],
   "source": [
    "mat_fname = './test_file_dat.mat'\n",
    "mat_dat_file = './test_dat.mat'\n",
    "mat_fnames = sio.loadmat(mat_fname)\n",
    "mat_dats = sio.loadmat(mat_dat_file)\n",
    "# str(mat_data['fls'][0][1][0])\n",
    "# mat_dats['bbx'][0][1]\n",
    "# len(mat_dats['bbx'][0])\n",
    "# len(mat_fnames['fls'][0])\n",
    "# mat_fnames['fls'][0]\n",
    "dict_bbx = dict()\n",
    "for i in range(len(mat_dats['bbx'][0])):\n",
    "    dict_bbx[str(mat_fnames['fls'][0][i][0])] = mat_dats['bbx'][0][i]\n",
    "# dict_bbx[str(mat_fnames['fls'][0][0][0])].shape\n",
    "# dict_bbx.keys()\n",
    "g = open('./code_manip_bbox_dict.pkl', 'w')\n",
    "pickle.dump(dict_bbx, g)\n",
    "g.close()"
   ]
  },
  {
   "cell_type": "code",
   "execution_count": 109,
   "metadata": {},
   "outputs": [
    {
     "data": {
      "text/plain": [
       "array([  1,   1, 256, 256], dtype=uint16)"
      ]
     },
     "execution_count": 109,
     "metadata": {},
     "output_type": "execute_result"
    }
   ],
   "source": [
    "a1 = pickle.load(open('./code_manip_bbox_dict.pkl', 'rb'))\n",
    "# dict_bbx\n",
    "a1['base_a_archaelogical_excavation_00001308_probe_protest_img_2015.png'][0]"
   ]
  }
 ],
 "metadata": {
  "kernelspec": {
   "display_name": "Python 2",
   "language": "python",
   "name": "python2"
  },
  "language_info": {
   "codemirror_mode": {
    "name": "ipython",
    "version": 2
   },
   "file_extension": ".py",
   "mimetype": "text/x-python",
   "name": "python",
   "nbconvert_exporter": "python",
   "pygments_lexer": "ipython2",
   "version": "2.7.12"
  }
 },
 "nbformat": 4,
 "nbformat_minor": 2
}
