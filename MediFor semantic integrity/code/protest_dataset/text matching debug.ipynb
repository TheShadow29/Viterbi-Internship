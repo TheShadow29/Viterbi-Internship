{
 "cells": [
  {
   "cell_type": "code",
   "execution_count": 1,
   "metadata": {
    "collapsed": true
   },
   "outputs": [],
   "source": [
    "import sys\n",
    "sys.path.append('../nimble_challenge')\n",
    "sys.path.append('./ctpn/src/')\n",
    "# sys.path.append('/home/arka_s/Caffe/cf/caffe/python/')\n",
    "# import caffe\n",
    "import two_imgs_eff\n",
    "import pickle\n",
    "from txt_data_storer import info_storer, info_storer_all\n",
    "# import detectors\n",
    "# import other"
   ]
  },
  {
   "cell_type": "code",
   "execution_count": 2,
   "metadata": {},
   "outputs": [
    {
     "name": "stdout",
     "output_type": "stream",
     "text": [
      "Using matplotlib backend: TkAgg\n"
     ]
    }
   ],
   "source": [
    "import skimage.io as skio\n",
    "import skimage.draw as skd\n",
    "%matplotlib\n",
    "import os\n",
    "import numpy as np"
   ]
  },
  {
   "cell_type": "code",
   "execution_count": 5,
   "metadata": {
    "collapsed": true
   },
   "outputs": [],
   "source": [
    "def get_cropped(img, bbox,default=True):\n",
    "    '''\n",
    "    Assuming format is (x1, y1, x2, y2)\n",
    "    '''\n",
    "    bbx = bbox.astype(int)\n",
    "    if default:\n",
    "        img1 = img[bbx[0]:bbx[2], bbx[1]:bbx[3], :]\n",
    "    else:\n",
    "        img1 = img[bbx[1]:bbx[3], bbx[0]:bbx[2], :]\n",
    "    return img1"
   ]
  },
  {
   "cell_type": "code",
   "execution_count": 6,
   "metadata": {
    "collapsed": true
   },
   "outputs": [],
   "source": [
    "def get_img_with_bbx(img, rr, cc, copy=False, color=(255, 0, 0)):\n",
    "    if copy:\n",
    "        img1 = img.copy()\n",
    "    else:\n",
    "        img1 = img\n",
    "    skd.set_color(img1, (rr, cc), color)\n",
    "    return img1"
   ]
  },
  {
   "cell_type": "code",
   "execution_count": 7,
   "metadata": {
    "collapsed": true
   },
   "outputs": [],
   "source": [
    "def get_img_with_bbx2(img, actual_bbx2, default='co', copy=False, color=(255, 0, 0)):\n",
    "    actual_bbx = actual_bbx2.copy()\n",
    "    if 'co' in default:\n",
    "        actual_bbx[0], actual_bbx[1] = actual_bbx[1], actual_bbx[0]\n",
    "        actual_bbx[2], actual_bbx[3] = actual_bbx[3], actual_bbx[2]\n",
    "    if 'wh' in default:\n",
    "        actual_bbx[2] = actual_bbx[0] + actual_bbx[2]\n",
    "        actual_bbx[3] = actual_bbx[1] + actual_bbx[3]\n",
    "    abx = np.array((\n",
    "    (actual_bbx[0], actual_bbx[1]),\n",
    "    (actual_bbx[0], actual_bbx[3]),\n",
    "    (actual_bbx[2], actual_bbx[3]),\n",
    "    (actual_bbx[2], actual_bbx[1]),\n",
    "    ))\n",
    "    rr, cc = skd.polygon_perimeter(abx[:,0], abx[:,1], p_img.shape, clip=False)\n",
    "    if copy:\n",
    "        img1 = img.copy()\n",
    "    else:\n",
    "        img1 = img\n",
    "    skd.set_color(img1, (rr, cc), color)\n",
    "    return img1, get_cropped(img,actual_bbx)"
   ]
  },
  {
   "cell_type": "code",
   "execution_count": 8,
   "metadata": {},
   "outputs": [],
   "source": [
    "tdir = '/home/nkovvuri/Rama_Work/dataset/Protest_Images/'\n",
    "spdir = 'Modified_Images_ProtestL/'\n",
    "swdir = 'Pruned_Protest_YFCCImages/'\n",
    "npy_file = 'mod_fine_labels.npy'\n",
    "pimg_list = os.listdir(tdir + spdir)\n",
    "pimg_list = [i for i in pimg_list if i[-4:] == '.jpg' or i[-4:]=='.png']\n",
    "test_img = pimg_list[0]\n",
    "p_img = skio.imread(tdir + spdir + test_img)\n",
    "actual_bbx = np.load(tdir + npy_file).item()[test_img[:-4]]\n",
    "actual_bbx[0], actual_bbx[1] = actual_bbx[1], actual_bbx[0]\n",
    "actual_bbx[2], actual_bbx[3] = actual_bbx[3], actual_bbx[2]\n",
    "w_img_name = 'protest_img_' + test_img.split('_')[-1]\n",
    "w_img = skio.imread(tdir + swdir + w_img_name)\n",
    "abx = np.array((\n",
    "    (actual_bbx[0], actual_bbx[1]),\n",
    "    (actual_bbx[0], actual_bbx[3]),\n",
    "    (actual_bbx[2], actual_bbx[3]),\n",
    "    (actual_bbx[2], actual_bbx[1]),\n",
    "))\n",
    "rr, cc = skd.polygon_perimeter(abx[:,0], abx[:,1], p_img.shape, clip=True)\n",
    "p_img_bbx = get_img_with_bbx(p_img, rr, cc, copy=True)\n",
    "p_img_only_bbx = p_img[actual_bbx[0]:actual_bbx[2], actual_bbx[1]:actual_bbx[3]]\n",
    "skio.imshow_collection([p_img_bbx, p_img_only_bbx, w_img])\n",
    "# skio.imshow_collection([p_img_only_bbx, w_img])\n",
    "# p_img_only_bbx.shape\n",
    "# rr.shape"
   ]
  },
  {
   "cell_type": "code",
   "execution_count": 9,
   "metadata": {
    "collapsed": true
   },
   "outputs": [],
   "source": [
    "# Text Boxes\n",
    "dict_bbx_mod = pickle.load(open('../../data/protest_data/dict_Modified_Images_ProtestL_text_lines.pkl'))\n",
    "dict_bbx_prune = pickle.load(open('../../data/protest_data/dict_protest_text_lines.pkl'))\n",
    "# skio.imshow(get_cropped(p_img, dict_bbx[test_img][1],default=False))\n",
    "# skio.imshow(get_img_with_bbx2(p_img, dict_bbx[test_img][0], default='co', copy=True))\n",
    "p_img_bbx2, pbbx = get_img_with_bbx2(p_img, dict_bbx_mod[test_img][0], default='co', copy=True)\n",
    "# dict_bbx_prune[w_img_name][0].astype(int)\n",
    "# skio.imshow(get_img_with_bbx2(w_img, dict_bbx_prune[w_img_name][0], default='co', copy=True))\n",
    "w_img_bbx2, wbbx = get_img_with_bbx2(w_img, dict_bbx_prune[w_img_name][0], default='co', copy=True)\n",
    "# skio.imshow(get_img_with_bbx2(w_img,np.array([112,  93, 159, 109,   0]),default=False,copy=True))\n",
    "# skio.imshow([p_img_bbx2, w_img_bbx2])\n",
    "# skio.imshow(p_img_bbx2)\n",
    "# skio.imshow(w_img_bbx2)\n",
    "# skio.imshow_collection([p_img_bbx2, w_img_bbx2]) # Working one\n",
    "skio.imshow_collection([pbbx, p_img_bbx2])\n",
    "skio.imshow_collection([wbbx, w_img_bbx2])\n",
    "# skio.imsave('test_txt_img1.png', pbbx)\n",
    "# skio.imsave('test_txt_img2.png', wbbx)\n",
    "# bx = dict_bbx[test_img][1].astype(int)\n",
    "# print(bx)\n",
    "# p1 = p_img[bx[0]:bx[2], bx[1]:bx[3]]\n",
    "# p1 = p_img[bx[1]:bx[3], bx[0]:bx[2]]\n",
    "# skio.imshow(p1)\n",
    "# dict_bbx[test_img][0].astype(int)\n",
    "# dict_bbx_prune[w_img_name][0]"
   ]
  },
  {
   "cell_type": "code",
   "execution_count": 11,
   "metadata": {
    "collapsed": true
   },
   "outputs": [],
   "source": [
    "p_tl = dict_bbx_mod[test_img]\n",
    "w_tl = dict_bbx_prune[w_img_name]\n",
    "save_tdir = '../../data/protest_data/only_text/'\n",
    "dest_pdir = save_tdir + test_img[:-4]\n",
    "dest_wdir = save_tdir + w_img_name[:-4]\n",
    "if not os.path.exists(dest_pdir):\n",
    "    os.makedirs(dest_pdir)\n",
    "if not os.path.exists(dest_wdir):\n",
    "    os.makedirs(dest_wdir)\n",
    "for ind, tl in enumerate(p_tl):\n",
    "    p_img_bbx2, pbbx = get_img_with_bbx2(p_img, tl, default='co', copy=True)\n",
    "    skio.imsave(dest_pdir +'/'+ str(ind) + '.png', pbbx)\n",
    "for ind, tl in enumerate(w_tl):\n",
    "    w_img_bbx2, wbbx = get_img_with_bbx2(w_img, tl, default='co', copy=True)\n",
    "    skio.imsave(dest_wdir + '/' +str(ind) + '.png', wbbx)"
   ]
  },
  {
   "cell_type": "code",
   "execution_count": 48,
   "metadata": {
    "collapsed": true
   },
   "outputs": [],
   "source": [
    "# w_tl"
   ]
  },
  {
   "cell_type": "code",
   "execution_count": 35,
   "metadata": {},
   "outputs": [
    {
     "name": "stdout",
     "output_type": "stream",
     "text": [
      "Help on function imsave in module skimage.io._io:\n",
      "\n",
      "imsave(fname, arr, plugin=None, **plugin_args)\n",
      "    Save an image to file.\n",
      "    \n",
      "    Parameters\n",
      "    ----------\n",
      "    fname : str\n",
      "        Target filename.\n",
      "    arr : ndarray of shape (M,N) or (M,N,3) or (M,N,4)\n",
      "        Image data.\n",
      "    plugin : str\n",
      "        Name of plugin to use.  By default, the different plugins are\n",
      "        tried (starting with the Python Imaging Library) until a suitable\n",
      "        candidate is found.  If not given and fname is a tiff file, the\n",
      "        tifffile plugin will be used.\n",
      "    \n",
      "    Other parameters\n",
      "    ----------------\n",
      "    plugin_args : keywords\n",
      "        Passed to the given plugin.\n",
      "\n"
     ]
    }
   ],
   "source": [
    "# corr = two_imgs_eff.cmp_fv\n",
    "help(skio.imsave)"
   ]
  },
  {
   "cell_type": "code",
   "execution_count": null,
   "metadata": {
    "collapsed": true
   },
   "outputs": [],
   "source": [
    "\n",
    "# print(actual_bbx)\n",
    "# p_img.shape\n",
    "# poly = np.array((\n",
    "#     (300, 300),\n",
    "#     (480, 320),\n",
    "#     (380, 430),\n",
    "#     (220, 590),\n",
    "#     (300, 300),\n",
    "# ))\n",
    "# rr, cc = polygon_perimeter(poly[:, 0], poly[:, 1], p_img.shape)\n",
    "\n",
    "# p_img_bbx = p_img.copy()\n",
    "# p_img_bbx[rr, cc, 0] = 255\n",
    "# p_img_bbx[rr, cc, 1] = 0\n",
    "# p_img_bbx[rr, cc, 2] = 0\n",
    "\n"
   ]
  },
  {
   "cell_type": "code",
   "execution_count": null,
   "metadata": {
    "collapsed": true
   },
   "outputs": [],
   "source": [
    "help(skd.set_color)"
   ]
  },
  {
   "cell_type": "code",
   "execution_count": null,
   "metadata": {
    "collapsed": true
   },
   "outputs": [],
   "source": [
    "print(abx)\n",
    "poly"
   ]
  },
  {
   "cell_type": "code",
   "execution_count": null,
   "metadata": {
    "collapsed": true
   },
   "outputs": [],
   "source": [
    "# actual_bbx\n",
    "# test_img.split('_')[-1]\n",
    "actual_bbx"
   ]
  },
  {
   "cell_type": "code",
   "execution_count": null,
   "metadata": {
    "collapsed": true
   },
   "outputs": [],
   "source": [
    "from jupyter_core.paths import jupyter_config_dir\n",
    "jupyter_dir = jupyter_config_dir()\n",
    "jupyter_dir"
   ]
  },
  {
   "cell_type": "code",
   "execution_count": null,
   "metadata": {
    "collapsed": true
   },
   "outputs": [],
   "source": [
    "import math\n",
    "import numpy as np\n",
    "import matplotlib.pyplot as plt\n",
    "\n",
    "from skimage.draw import (line, polygon, circle,\n",
    "                          circle_perimeter,\n",
    "                          ellipse, ellipse_perimeter,\n",
    "                          bezier_curve, polygon_perimeter)\n",
    "\n",
    "\n",
    "fig, ax1 = plt.subplots(ncols=1, nrows=1, figsize=(10, 6))\n",
    "\n",
    "\n",
    "img = np.zeros((500, 500, 3), dtype=np.double)\n",
    "\n",
    "# fill polygon\n",
    "poly = np.array((\n",
    "    (300, 300),\n",
    "    (480, 320),\n",
    "    (380, 430),\n",
    "    (220, 590),\n",
    "    (300, 300),\n",
    "))\n",
    "rr, cc = polygon_perimeter(poly[:, 0], poly[:, 1], img.shape)\n",
    "img[rr, cc, 1] = 1\n",
    "\n",
    "\n",
    "ax1.imshow(img)\n",
    "ax1.set_title('No anti-aliasing')\n",
    "ax1.axis('off')\n"
   ]
  }
 ],
 "metadata": {
  "kernelspec": {
   "display_name": "Python 2",
   "language": "python",
   "name": "python2"
  },
  "language_info": {
   "codemirror_mode": {
    "name": "ipython",
    "version": 2
   },
   "file_extension": ".py",
   "mimetype": "text/x-python",
   "name": "python",
   "nbconvert_exporter": "python",
   "pygments_lexer": "ipython2",
   "version": "2.7.12"
  }
 },
 "nbformat": 4,
 "nbformat_minor": 2
}
