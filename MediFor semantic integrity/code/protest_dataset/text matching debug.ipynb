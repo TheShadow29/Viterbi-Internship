{
 "cells": [
  {
   "cell_type": "code",
   "execution_count": 13,
   "metadata": {
    "collapsed": true
   },
   "outputs": [],
   "source": [
    "import sys\n",
    "sys.path.append('../nimble_challenge')\n",
    "sys.path.append('./ctpn/src/')\n",
    "# sys.path.append('/home/arka_s/Caffe/cf/caffe/python/')\n",
    "# import caffe\n",
    "import two_imgs_eff\n",
    "import pickle\n",
    "from txt_data_storer import info_storer, info_storer_all\n",
    "# import detectors\n",
    "# import other"
   ]
  },
  {
   "cell_type": "code",
   "execution_count": 14,
   "metadata": {},
   "outputs": [
    {
     "name": "stdout",
     "output_type": "stream",
     "text": [
      "Using matplotlib backend: TkAgg\n"
     ]
    }
   ],
   "source": [
    "import skimage.io as skio\n",
    "import skimage.draw as skd\n",
    "%matplotlib\n",
    "import os\n",
    "import numpy as np"
   ]
  },
  {
   "cell_type": "code",
   "execution_count": 66,
   "metadata": {},
   "outputs": [],
   "source": [
    "tdir = '/home/nkovvuri/Rama_Work/dataset/Protest_Images/'\n",
    "spdir = 'Modified_Images_ProtestL/'\n",
    "swdir = 'Pruned_Protest_YFCCImages/'\n",
    "npy_file = 'mod_fine_labels.npy'\n",
    "pimg_list = os.listdir(tdir + spdir)\n",
    "pimg_list = [i for i in pimg_list if i[-4:] == '.jpg' or i[-4:]=='.png']\n",
    "test_img = pimg_list[0]\n",
    "p_img = skio.imread(tdir + spdir + test_img)\n",
    "actual_bbx = np.load(tdir + npy_file).item()[test_img[:-4]]\n",
    "actual_bbx[0], actual_bbx[1] = actual_bbx[1], actual_bbx[0]\n",
    "actual_bbx[2], actual_bbx[3] = actual_bbx[3], actual_bbx[2]\n",
    "w_img = skio.imread(tdir + swdir + 'protest_img_' + test_img.split('_')[-1])\n",
    "abx = np.array((\n",
    "    (actual_bbx[0], actual_bbx[1]),\n",
    "    (actual_bbx[0], actual_bbx[3]),\n",
    "    (actual_bbx[2], actual_bbx[3]),\n",
    "    (actual_bbx[2], actual_bbx[1]),\n",
    "))\n",
    "rr, cc = skd.polygon_perimeter(abx[:,0], abx[:,1], p_img.shape, clip=True)\n",
    "p_img_bbx = get_img_with_bbx(p_img, rr, cc, copy=True)\n",
    "p_img_only_bbx = p_img[actual_bbx[0]:actual_bbx[2], actual_bbx[1]:actual_bbx[3]]\n",
    "skio.imshow_collection([p_img_bbx, p_img_only_bbx, w_img])\n",
    "# skio.imshow_collection([p_img_only_bbx, w_img])\n",
    "# p_img_only_bbx.shape\n",
    "# rr.shape"
   ]
  },
  {
   "cell_type": "code",
   "execution_count": 31,
   "metadata": {
    "collapsed": true
   },
   "outputs": [],
   "source": [
    "def get_cropped(img, bbox,default=True):\n",
    "    '''\n",
    "    Assuming format is (x1, y1, x2, y2)\n",
    "    '''\n",
    "    bbx = bbox.astype(int)\n",
    "    if default:\n",
    "        img1 = img[bbx[0]:bbx[2], bbx[1]:bbx[3], :]\n",
    "    else:\n",
    "        img1 = img[bbx[1]:bbx[3], bbx[0]:bbx[2], :]\n",
    "    return img1"
   ]
  },
  {
   "cell_type": "code",
   "execution_count": 63,
   "metadata": {
    "collapsed": true
   },
   "outputs": [],
   "source": [
    "def get_img_with_bbx(img, rr, cc, copy=False, color=(255, 0, 0)):\n",
    "    if copy:\n",
    "        img1 = img.copy()\n",
    "    else:\n",
    "        img1 = img\n",
    "    skd.set_color(img1, (rr, cc), color)\n",
    "    return img1"
   ]
  },
  {
   "cell_type": "code",
   "execution_count": 67,
   "metadata": {
    "collapsed": true
   },
   "outputs": [],
   "source": [
    "def get_img_with_bbx2(img, actual_bbx2, default=False, copy=False, color=(255, 0, 0)):\n",
    "    actual_bbx = actual_bbx2.copy()\n",
    "    if default:\n",
    "        actual_bbx[0], actual_bbx[1] = actual_bbx[1], actual_bbx[0]\n",
    "        actual_bbx[2], actual_bbx[3] = actual_bbx[3], actual_bbx[2]\n",
    "    abx = np.array((\n",
    "    (actual_bbx[0], actual_bbx[1]),\n",
    "    (actual_bbx[0], actual_bbx[3]),\n",
    "    (actual_bbx[2], actual_bbx[3]),\n",
    "    (actual_bbx[2], actual_bbx[1]),\n",
    "    ))\n",
    "    rr, cc = skd.polygon_perimeter(abx[:,0], abx[:,1], p_img.shape, clip=True)\n",
    "    if copy:\n",
    "        img1 = img.copy()\n",
    "    else:\n",
    "        img1 = img\n",
    "    skd.set_color(img1, (rr, cc), color)\n",
    "    return img1"
   ]
  },
  {
   "cell_type": "code",
   "execution_count": 70,
   "metadata": {},
   "outputs": [
    {
     "data": {
      "text/plain": [
       "<matplotlib.image.AxesImage at 0x7fcddec59f10>"
      ]
     },
     "execution_count": 70,
     "metadata": {},
     "output_type": "execute_result"
    }
   ],
   "source": [
    "# Text Boxes\n",
    "dict_bbx = pickle.load(open('../../data/protest_data/dict_Modified_Images_ProtestL_text_lines.pkl'))\n",
    "dict_bbx[test_img]\n",
    "# skio.imshow(get_cropped(p_img, dict_bbx[test_img][1],default=False))\n",
    "skio.imshow(get_img_with_bbx2(p_img, dict_bbx[test_img][0], default=True, copy=True))\n",
    "# bx = dict_bbx[test_img][1].astype(int)\n",
    "# print(bx)\n",
    "# p1 = p_img[bx[0]:bx[2], bx[1]:bx[3]]\n",
    "# p1 = p_img[bx[1]:bx[3], bx[0]:bx[2]]\n",
    "# skio.imshow(p1)\n",
    "# dict_bbx[test_img][0].astype(int)"
   ]
  },
  {
   "cell_type": "code",
   "execution_count": 96,
   "metadata": {},
   "outputs": [
    {
     "name": "stdout",
     "output_type": "stream",
     "text": [
      "[ 621  657  944 1227]\n"
     ]
    },
    {
     "data": {
      "text/plain": [
       "<matplotlib.image.AxesImage at 0x7fef47344f50>"
      ]
     },
     "execution_count": 96,
     "metadata": {},
     "output_type": "execute_result"
    }
   ],
   "source": [
    "\n",
    "# print(actual_bbx)\n",
    "# p_img.shape\n",
    "# poly = np.array((\n",
    "#     (300, 300),\n",
    "#     (480, 320),\n",
    "#     (380, 430),\n",
    "#     (220, 590),\n",
    "#     (300, 300),\n",
    "# ))\n",
    "# rr, cc = polygon_perimeter(poly[:, 0], poly[:, 1], p_img.shape)\n",
    "\n",
    "# p_img_bbx = p_img.copy()\n",
    "# p_img_bbx[rr, cc, 0] = 255\n",
    "# p_img_bbx[rr, cc, 1] = 0\n",
    "# p_img_bbx[rr, cc, 2] = 0\n",
    "\n"
   ]
  },
  {
   "cell_type": "code",
   "execution_count": 92,
   "metadata": {},
   "outputs": [
    {
     "name": "stdout",
     "output_type": "stream",
     "text": [
      "Help on function set_color in module skimage.draw.draw:\n",
      "\n",
      "set_color(img, coords, color, alpha=1)\n",
      "    Set pixel color in the image at the given coordinates.\n",
      "    \n",
      "    Coordinates that exceed the shape of the image will be ignored.\n",
      "    \n",
      "    Parameters\n",
      "    ----------\n",
      "    img : (M, N, D) ndarray\n",
      "        Image\n",
      "    coords : tuple of ((P,) ndarray, (P,) ndarray)\n",
      "        Row and column coordinates of pixels to be colored.\n",
      "    color : (D,) ndarray\n",
      "        Color to be assigned to coordinates in the image.\n",
      "    alpha : scalar or (N,) ndarray\n",
      "        Alpha values used to blend color with image.  0 is transparent,\n",
      "        1 is opaque.\n",
      "    \n",
      "    Returns\n",
      "    -------\n",
      "    img : (M, N, D) ndarray\n",
      "        The updated image.\n",
      "    \n",
      "    Examples\n",
      "    --------\n",
      "    >>> from skimage.draw import line, set_color\n",
      "    >>> img = np.zeros((10, 10), dtype=np.uint8)\n",
      "    >>> rr, cc = line(1, 1, 20, 20)\n",
      "    >>> set_color(img, (rr, cc), 1)\n",
      "    >>> img\n",
      "    array([[0, 0, 0, 0, 0, 0, 0, 0, 0, 0],\n",
      "           [0, 1, 0, 0, 0, 0, 0, 0, 0, 0],\n",
      "           [0, 0, 1, 0, 0, 0, 0, 0, 0, 0],\n",
      "           [0, 0, 0, 1, 0, 0, 0, 0, 0, 0],\n",
      "           [0, 0, 0, 0, 1, 0, 0, 0, 0, 0],\n",
      "           [0, 0, 0, 0, 0, 1, 0, 0, 0, 0],\n",
      "           [0, 0, 0, 0, 0, 0, 1, 0, 0, 0],\n",
      "           [0, 0, 0, 0, 0, 0, 0, 1, 0, 0],\n",
      "           [0, 0, 0, 0, 0, 0, 0, 0, 1, 0],\n",
      "           [0, 0, 0, 0, 0, 0, 0, 0, 0, 1]], dtype=uint8)\n",
      "\n"
     ]
    }
   ],
   "source": [
    "help(skd.set_color)"
   ]
  },
  {
   "cell_type": "code",
   "execution_count": 91,
   "metadata": {},
   "outputs": [
    {
     "name": "stdout",
     "output_type": "stream",
     "text": [
      "[[ 621  657]\n",
      " [ 621 1227]\n",
      " [ 944 1227]\n",
      " [ 944  657]]\n"
     ]
    },
    {
     "data": {
      "text/plain": [
       "array([[300, 300],\n",
       "       [480, 320],\n",
       "       [380, 430],\n",
       "       [220, 590],\n",
       "       [300, 300]])"
      ]
     },
     "execution_count": 91,
     "metadata": {},
     "output_type": "execute_result"
    }
   ],
   "source": [
    "print(abx)\n",
    "poly"
   ]
  },
  {
   "cell_type": "code",
   "execution_count": 28,
   "metadata": {},
   "outputs": [
    {
     "data": {
      "text/plain": [
       "array([ 657,  621, 1227,  944], dtype=int32)"
      ]
     },
     "execution_count": 28,
     "metadata": {},
     "output_type": "execute_result"
    }
   ],
   "source": [
    "# actual_bbx\n",
    "# test_img.split('_')[-1]\n",
    "actual_bbx"
   ]
  },
  {
   "cell_type": "code",
   "execution_count": 21,
   "metadata": {},
   "outputs": [
    {
     "data": {
      "text/plain": [
       "'/home/arka_s/.jupyter'"
      ]
     },
     "execution_count": 21,
     "metadata": {},
     "output_type": "execute_result"
    }
   ],
   "source": [
    "from jupyter_core.paths import jupyter_config_dir\n",
    "jupyter_dir = jupyter_config_dir()\n",
    "jupyter_dir"
   ]
  },
  {
   "cell_type": "code",
   "execution_count": 18,
   "metadata": {},
   "outputs": [
    {
     "data": {
      "text/plain": [
       "(-0.5, 499.5, 499.5, -0.5)"
      ]
     },
     "execution_count": 18,
     "metadata": {},
     "output_type": "execute_result"
    }
   ],
   "source": [
    "import math\n",
    "import numpy as np\n",
    "import matplotlib.pyplot as plt\n",
    "\n",
    "from skimage.draw import (line, polygon, circle,\n",
    "                          circle_perimeter,\n",
    "                          ellipse, ellipse_perimeter,\n",
    "                          bezier_curve, polygon_perimeter)\n",
    "\n",
    "\n",
    "fig, ax1 = plt.subplots(ncols=1, nrows=1, figsize=(10, 6))\n",
    "\n",
    "\n",
    "img = np.zeros((500, 500, 3), dtype=np.double)\n",
    "\n",
    "# fill polygon\n",
    "poly = np.array((\n",
    "    (300, 300),\n",
    "    (480, 320),\n",
    "    (380, 430),\n",
    "    (220, 590),\n",
    "    (300, 300),\n",
    "))\n",
    "rr, cc = polygon_perimeter(poly[:, 0], poly[:, 1], img.shape)\n",
    "img[rr, cc, 1] = 1\n",
    "\n",
    "\n",
    "ax1.imshow(img)\n",
    "ax1.set_title('No anti-aliasing')\n",
    "ax1.axis('off')\n"
   ]
  }
 ],
 "metadata": {
  "kernelspec": {
   "display_name": "Python 2",
   "language": "python",
   "name": "python2"
  },
  "language_info": {
   "codemirror_mode": {
    "name": "ipython",
    "version": 2
   },
   "file_extension": ".py",
   "mimetype": "text/x-python",
   "name": "python",
   "nbconvert_exporter": "python",
   "pygments_lexer": "ipython2",
   "version": "2.7.12"
  }
 },
 "nbformat": 4,
 "nbformat_minor": 2
}
