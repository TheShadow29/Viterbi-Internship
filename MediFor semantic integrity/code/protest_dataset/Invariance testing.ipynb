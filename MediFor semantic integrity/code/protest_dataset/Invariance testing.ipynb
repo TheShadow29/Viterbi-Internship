{
 "cells": [
  {
   "cell_type": "code",
   "execution_count": 16,
   "metadata": {},
   "outputs": [
    {
     "name": "stdout",
     "output_type": "stream",
     "text": [
      "Using matplotlib backend: TkAgg\n"
     ]
    }
   ],
   "source": [
    "import two_imgs_matcher\n",
    "import os\n",
    "import caffe\n",
    "import skimage.io as skio\n",
    "import skimage as sk\n",
    "import skimage.transform as skt\n",
    "import numpy as np\n",
    "%matplotlib\n",
    "import matplotlib.pyplot as plt"
   ]
  },
  {
   "cell_type": "code",
   "execution_count": 7,
   "metadata": {
    "collapsed": true
   },
   "outputs": [],
   "source": [
    "# caffe_model_dir = '../../data/caffe_model/alexnet365/'\n",
    "# descriptor_path = caffe_model_dir + 'deploy_alexnet_places365.prototxt'\n",
    "# weights_path = caffe_model_dir + 'alexnet_places365.caffemodel'\n",
    "\n",
    "caffe_model_dir = '/home/arka_s/Caffe/caffe/models/bvlc_alexnet/'\n",
    "descriptor_path = caffe_model_dir + 'deploy.prototxt'\n",
    "weights_path = caffe_model_dir + 'bvlc_alexnet.caffemodel'\n",
    "\n",
    "ilsvrc_mean_path = '/home/arka_s/Caffe/caffe/python/caffe/imagenet/ilsvrc_2012_mean.npy'\n",
    "net = caffe.Net(descriptor_path, weights_path, caffe.TEST)\n",
    "# skimage.io.use_plugin('matplotlib')\n",
    "skio.use_plugin('matplotlib')\n",
    "# transformer\n",
    "transformer = caffe.io.Transformer({'data': net.blobs['data'].data.shape})\n",
    "transformer.set_mean('data', np.load(ilsvrc_mean_path).mean(1).mean(1))\n",
    "\n",
    "transformer.set_transpose('data', (2, 0, 1))\n",
    "transformer.set_channel_swap('data', (2, 1, 0))\n",
    "transformer.set_raw_scale('data', 255.0)\n",
    "net.blobs['data'].reshape(2, 3, 227, 227)\n",
    "# layer = 'fc8'\n",
    "# img1_tdir = '../../data/protest_data/only_text/beach_mdf_019/'\n",
    "# img2_tdir = '../../data/protest_data/only_text/protest_img_019/'\n",
    "# i = '0.png'\n",
    "# j = '1.png'\n",
    "# a1 = two_imgs_matcher.are_the_two_imgs_same(img1_tdir + i,\n",
    "#                                             img2_tdir + j, transformer, net, layer)\n"
   ]
  },
  {
   "cell_type": "code",
   "execution_count": 49,
   "metadata": {},
   "outputs": [
    {
     "name": "stdout",
     "output_type": "stream",
     "text": [
      "0.05    0.563068047764\n",
      "0.1    0.708927242043\n",
      "0.15    0.674484962948\n",
      "0.2    0.776984033166\n",
      "0.25    0.879912024202\n",
      "0.3    0.921925862867\n",
      "0.35    0.9556722123\n",
      "0.4    0.980394447561\n",
      "0.45    0.981501484884\n",
      "0.5    0.985761544861\n",
      "0.55    0.989666551331\n",
      "0.6    0.9928557046\n",
      "0.65    0.992844954963\n",
      "0.7    0.995609142389\n",
      "0.75    0.994544298064\n",
      "0.8    0.995711236485\n",
      "0.85    0.995441865306\n",
      "0.9    0.996224533531\n",
      "0.95    0.996714318175\n",
      "1.0    1.0\n",
      "1.05    0.997158651906\n",
      "1.1    0.998047021549\n",
      "1.15    0.997651866146\n",
      "1.2    0.998293555693\n",
      "1.25    0.998305348768\n",
      "1.3    0.998638515187\n",
      "1.35    0.99846789258\n",
      "1.4    0.998869320167\n",
      "1.45    0.998399690539\n",
      "1.5    0.998800985989\n",
      "1.55    0.999157905262\n",
      "1.6    0.999223793796\n",
      "1.65    0.999123684678\n",
      "1.7    0.999291937758\n",
      "1.75    0.999237961693\n",
      "1.8    0.999526018857\n",
      "1.85    0.999619678154\n",
      "1.9    0.999465631295\n",
      "1.95    0.999657496645\n",
      "2.0    0.999176394207\n"
     ]
    }
   ],
   "source": [
    "# Checking for scale invariance\n",
    "import pdb\n",
    "layer = 'fc8'\n",
    "img1_fname = '/home/nkovvuri/Rama_Work/dataset/Protest_Images/Pruned_Protest_YFCCImages/protest_img_001.jpg'\n",
    "img1 = skio.imread(img1_fname)\n",
    "scales = np.arange(0.05,2.05,0.05)\n",
    "img_list = []\n",
    "for sc in scales:\n",
    "    img_tmp = skt.rescale(img1, sc)\n",
    "#     pdb.set_trace()\n",
    "    img_list.append(img_tmp)\n",
    "img3 = sk.img_as_float(img1)\n",
    "for ind, im in enumerate(img_list):\n",
    "    a1 = two_imgs_matcher.are_the_two_imgs_same(img3,im, transformer, net, layer)\n",
    "    corr = a1[5]['pear_ncc']\n",
    "    print scales[ind],'  ', corr\n",
    "\n",
    "    \n",
    "# img2 = skt.rescale(img1, 0.5)\n",
    "# skio.imshow_collection([img1, img2])\n",
    "# skio.imshow(img1)"
   ]
  },
  {
   "cell_type": "code",
   "execution_count": 45,
   "metadata": {},
   "outputs": [
    {
     "name": "stdout",
     "output_type": "stream",
     "text": [
      "(333, 500, 3) (333, 500, 3)\n",
      "uint8 float64 float64\n",
      "[[ 64  77  93]\n",
      " [ 64  80  95]\n",
      " [ 64  80  95]\n",
      " ..., \n",
      " [103 117 128]\n",
      " [102 116 127]\n",
      " [101 115 126]] [[ 0.25098039  0.30196078  0.36470588]\n",
      " [ 0.25098039  0.31372549  0.37254902]\n",
      " [ 0.25098039  0.31372549  0.37254902]\n",
      " ..., \n",
      " [ 0.40392157  0.45882353  0.50196078]\n",
      " [ 0.4         0.45490196  0.49803922]\n",
      " [ 0.39607843  0.45098039  0.49411765]] [[ 0.25098039  0.30196078  0.36470588]\n",
      " [ 0.25098039  0.31372549  0.37254902]\n",
      " [ 0.25098039  0.31372549  0.37254902]\n",
      " ..., \n",
      " [ 0.40392157  0.45882353  0.50196078]\n",
      " [ 0.4         0.45490196  0.49803922]\n",
      " [ 0.39607843  0.45098039  0.49411765]]\n"
     ]
    }
   ],
   "source": [
    "# a1 = two_imgs_matcher.are_the_two_imgs_same(img1,img_list[-1], transformer, net, layer)\n",
    "img2 = skt.rescale(img1, 1)\n",
    "print img1.shape, img2.shape\n",
    "# skio.imshow_collection([img1, img2])\n",
    "# print img1[0], img2[0]\n",
    "img3 = sk.img_as_float(img1)\n",
    "print img1.dtype, img2.dtype, img3.dtype\n",
    "print img1[0], img2[0], img3[0]"
   ]
  },
  {
   "cell_type": "code",
   "execution_count": 30,
   "metadata": {},
   "outputs": [
    {
     "data": {
      "text/plain": [
       "<matplotlib.image.AxesImage at 0x7fa70dfe7110>"
      ]
     },
     "execution_count": 30,
     "metadata": {},
     "output_type": "execute_result"
    }
   ],
   "source": [
    "# skio.imshow(img1)"
   ]
  },
  {
   "cell_type": "code",
   "execution_count": 25,
   "metadata": {},
   "outputs": [
    {
     "data": {
      "text/plain": [
       "array([ 0.05,  0.1 ,  0.15,  0.2 ,  0.25,  0.3 ,  0.35,  0.4 ,  0.45,\n",
       "        0.5 ,  0.55,  0.6 ,  0.65,  0.7 ,  0.75,  0.8 ,  0.85,  0.9 ,\n",
       "        0.95,  1.  ])"
      ]
     },
     "execution_count": 25,
     "metadata": {},
     "output_type": "execute_result"
    }
   ],
   "source": [
    "scales"
   ]
  },
  {
   "cell_type": "code",
   "execution_count": 17,
   "metadata": {
    "scrolled": true
   },
   "outputs": [
    {
     "name": "stdout",
     "output_type": "stream",
     "text": [
      "Help on function rescale in module skimage.transform._warps:\n",
      "\n",
      "rescale(image, scale, order=1, mode=None, cval=0, clip=True, preserve_range=False)\n",
      "    Scale image by a certain factor.\n",
      "    \n",
      "    Performs interpolation to upscale or down-scale images. For down-sampling\n",
      "    N-dimensional images with integer factors by applying a function or the\n",
      "    arithmetic mean, see `skimage.measure.block_reduce` and\n",
      "    `skimage.transform.downscale_local_mean`, respectively.\n",
      "    \n",
      "    Parameters\n",
      "    ----------\n",
      "    image : ndarray\n",
      "        Input image.\n",
      "    scale : {float, tuple of floats}\n",
      "        Scale factors. Separate scale factors can be defined as\n",
      "        `(row_scale, col_scale)`.\n",
      "    \n",
      "    Returns\n",
      "    -------\n",
      "    scaled : ndarray\n",
      "        Scaled version of the input.\n",
      "    \n",
      "    Other parameters\n",
      "    ----------------\n",
      "    order : int, optional\n",
      "        The order of the spline interpolation, default is 1. The order has to\n",
      "        be in the range 0-5. See `skimage.transform.warp` for detail.\n",
      "    mode : {'constant', 'edge', 'symmetric', 'reflect', 'wrap'}, optional\n",
      "        Points outside the boundaries of the input are filled according\n",
      "        to the given mode.  Modes match the behaviour of `numpy.pad`.  The\n",
      "        default mode is 'constant'.\n",
      "    cval : float, optional\n",
      "        Used in conjunction with mode 'constant', the value outside\n",
      "        the image boundaries.\n",
      "    clip : bool, optional\n",
      "        Whether to clip the output to the range of values of the input image.\n",
      "        This is enabled by default, since higher order interpolation may\n",
      "        produce values outside the given input range.\n",
      "    preserve_range : bool, optional\n",
      "        Whether to keep the original range of values. Otherwise, the input\n",
      "        image is converted according to the conventions of `img_as_float`.\n",
      "    \n",
      "    Examples\n",
      "    --------\n",
      "    >>> from skimage import data\n",
      "    >>> from skimage.transform import rescale\n",
      "    >>> image = data.camera()\n",
      "    >>> rescale(image, 0.1, mode='reflect').shape\n",
      "    (51, 51)\n",
      "    >>> rescale(image, 0.5, mode='reflect').shape\n",
      "    (256, 256)\n",
      "\n"
     ]
    }
   ],
   "source": [
    "help(sk.transform.rescale)"
   ]
  },
  {
   "cell_type": "code",
   "execution_count": 14,
   "metadata": {},
   "outputs": [
    {
     "name": "stdout",
     "output_type": "stream",
     "text": [
      "Collecting jupyter-emacskeys\n",
      "  Using cached jupyter-emacskeys-0.2.3.tar.gz\n",
      "Requirement already satisfied: ipython>=4 in /home/arka_s/internship_files/Viterbi-Internship/my_proj/lib/python2.7/site-packages (from jupyter-emacskeys)\n",
      "Requirement already satisfied: notebook>=4 in /home/arka_s/internship_files/Viterbi-Internship/my_proj/lib/python2.7/site-packages (from jupyter-emacskeys)\n",
      "Requirement already satisfied: pickleshare in /home/arka_s/internship_files/Viterbi-Internship/my_proj/lib/python2.7/site-packages (from ipython>=4->jupyter-emacskeys)\n",
      "Requirement already satisfied: simplegeneric>0.8 in /home/arka_s/internship_files/Viterbi-Internship/my_proj/lib/python2.7/site-packages (from ipython>=4->jupyter-emacskeys)\n",
      "Requirement already satisfied: traitlets>=4.2 in /home/arka_s/internship_files/Viterbi-Internship/my_proj/lib/python2.7/site-packages (from ipython>=4->jupyter-emacskeys)\n",
      "Requirement already satisfied: backports.shutil-get-terminal-size; python_version == \"2.7\" in /home/arka_s/internship_files/Viterbi-Internship/my_proj/lib/python2.7/site-packages (from ipython>=4->jupyter-emacskeys)\n",
      "Requirement already satisfied: decorator in /home/arka_s/internship_files/Viterbi-Internship/my_proj/lib/python2.7/site-packages (from ipython>=4->jupyter-emacskeys)\n",
      "Requirement already satisfied: pygments in /home/arka_s/internship_files/Viterbi-Internship/my_proj/lib/python2.7/site-packages (from ipython>=4->jupyter-emacskeys)\n",
      "Requirement already satisfied: pexpect; sys_platform != \"win32\" in /home/arka_s/internship_files/Viterbi-Internship/my_proj/lib/python2.7/site-packages (from ipython>=4->jupyter-emacskeys)\n",
      "Requirement already satisfied: pathlib2; python_version == \"2.7\" or python_version == \"3.3\" in /home/arka_s/internship_files/Viterbi-Internship/my_proj/lib/python2.7/site-packages (from ipython>=4->jupyter-emacskeys)\n",
      "Requirement already satisfied: setuptools>=18.5 in /home/arka_s/internship_files/Viterbi-Internship/my_proj/lib/python2.7/site-packages (from ipython>=4->jupyter-emacskeys)\n",
      "Requirement already satisfied: prompt-toolkit<2.0.0,>=1.0.4 in /home/arka_s/internship_files/Viterbi-Internship/my_proj/lib/python2.7/site-packages (from ipython>=4->jupyter-emacskeys)\n",
      "Requirement already satisfied: ipykernel in /home/arka_s/internship_files/Viterbi-Internship/my_proj/lib/python2.7/site-packages (from notebook>=4->jupyter-emacskeys)\n",
      "Requirement already satisfied: jupyter-core in /home/arka_s/internship_files/Viterbi-Internship/my_proj/lib/python2.7/site-packages (from notebook>=4->jupyter-emacskeys)\n",
      "Requirement already satisfied: tornado>=4 in /home/arka_s/internship_files/Viterbi-Internship/my_proj/lib/python2.7/site-packages (from notebook>=4->jupyter-emacskeys)\n",
      "Requirement already satisfied: ipython-genutils in /home/arka_s/internship_files/Viterbi-Internship/my_proj/lib/python2.7/site-packages (from notebook>=4->jupyter-emacskeys)\n",
      "Requirement already satisfied: jupyter-client in /home/arka_s/internship_files/Viterbi-Internship/my_proj/lib/python2.7/site-packages (from notebook>=4->jupyter-emacskeys)\n",
      "Requirement already satisfied: nbformat in /home/arka_s/internship_files/Viterbi-Internship/my_proj/lib/python2.7/site-packages (from notebook>=4->jupyter-emacskeys)\n",
      "Requirement already satisfied: nbconvert in /home/arka_s/internship_files/Viterbi-Internship/my_proj/lib/python2.7/site-packages (from notebook>=4->jupyter-emacskeys)\n",
      "Requirement already satisfied: jinja2 in /home/arka_s/internship_files/Viterbi-Internship/my_proj/lib/python2.7/site-packages (from notebook>=4->jupyter-emacskeys)\n",
      "Requirement already satisfied: terminado>=0.3.3; sys_platform != \"win32\" in /home/arka_s/internship_files/Viterbi-Internship/my_proj/lib/python2.7/site-packages (from notebook>=4->jupyter-emacskeys)\n",
      "Requirement already satisfied: enum34; python_version == \"2.7\" in /home/arka_s/internship_files/Viterbi-Internship/my_proj/lib/python2.7/site-packages (from traitlets>=4.2->ipython>=4->jupyter-emacskeys)\n",
      "Requirement already satisfied: six in /home/arka_s/internship_files/Viterbi-Internship/my_proj/lib/python2.7/site-packages (from traitlets>=4.2->ipython>=4->jupyter-emacskeys)\n",
      "Requirement already satisfied: ptyprocess>=0.5 in /home/arka_s/internship_files/Viterbi-Internship/my_proj/lib/python2.7/site-packages (from pexpect; sys_platform != \"win32\"->ipython>=4->jupyter-emacskeys)\n",
      "Requirement already satisfied: scandir; python_version < \"3.5\" in /home/arka_s/internship_files/Viterbi-Internship/my_proj/lib/python2.7/site-packages (from pathlib2; python_version == \"2.7\" or python_version == \"3.3\"->ipython>=4->jupyter-emacskeys)\n",
      "Requirement already satisfied: appdirs>=1.4.0 in /home/arka_s/internship_files/Viterbi-Internship/my_proj/lib/python2.7/site-packages (from setuptools>=18.5->ipython>=4->jupyter-emacskeys)\n",
      "Requirement already satisfied: packaging>=16.8 in /home/arka_s/internship_files/Viterbi-Internship/my_proj/lib/python2.7/site-packages (from setuptools>=18.5->ipython>=4->jupyter-emacskeys)\n",
      "Requirement already satisfied: wcwidth in /home/arka_s/internship_files/Viterbi-Internship/my_proj/lib/python2.7/site-packages (from prompt-toolkit<2.0.0,>=1.0.4->ipython>=4->jupyter-emacskeys)\n",
      "Requirement already satisfied: singledispatch in /home/arka_s/internship_files/Viterbi-Internship/my_proj/lib/python2.7/site-packages (from tornado>=4->notebook>=4->jupyter-emacskeys)\n",
      "Requirement already satisfied: certifi in /home/arka_s/internship_files/Viterbi-Internship/my_proj/lib/python2.7/site-packages (from tornado>=4->notebook>=4->jupyter-emacskeys)\n",
      "Requirement already satisfied: backports-abc>=0.4 in /home/arka_s/internship_files/Viterbi-Internship/my_proj/lib/python2.7/site-packages (from tornado>=4->notebook>=4->jupyter-emacskeys)\n",
      "Requirement already satisfied: python-dateutil>=2.1 in /home/arka_s/internship_files/Viterbi-Internship/my_proj/lib/python2.7/site-packages (from jupyter-client->notebook>=4->jupyter-emacskeys)\n",
      "Requirement already satisfied: pyzmq>=13 in /home/arka_s/internship_files/Viterbi-Internship/my_proj/lib/python2.7/site-packages (from jupyter-client->notebook>=4->jupyter-emacskeys)\n",
      "Requirement already satisfied: jsonschema!=2.5.0,>=2.4 in /home/arka_s/internship_files/Viterbi-Internship/my_proj/lib/python2.7/site-packages (from nbformat->notebook>=4->jupyter-emacskeys)\n",
      "Requirement already satisfied: bleach in /home/arka_s/internship_files/Viterbi-Internship/my_proj/lib/python2.7/site-packages (from nbconvert->notebook>=4->jupyter-emacskeys)\n",
      "Requirement already satisfied: mistune!=0.6 in /home/arka_s/internship_files/Viterbi-Internship/my_proj/lib/python2.7/site-packages (from nbconvert->notebook>=4->jupyter-emacskeys)\n",
      "Requirement already satisfied: testpath in /home/arka_s/internship_files/Viterbi-Internship/my_proj/lib/python2.7/site-packages (from nbconvert->notebook>=4->jupyter-emacskeys)\n",
      "Requirement already satisfied: entrypoints>=0.2.2 in /home/arka_s/internship_files/Viterbi-Internship/my_proj/lib/python2.7/site-packages (from nbconvert->notebook>=4->jupyter-emacskeys)\n",
      "Requirement already satisfied: pandocfilters>=1.4.1 in /home/arka_s/internship_files/Viterbi-Internship/my_proj/lib/python2.7/site-packages (from nbconvert->notebook>=4->jupyter-emacskeys)\n",
      "Requirement already satisfied: MarkupSafe>=0.23 in /home/arka_s/internship_files/Viterbi-Internship/my_proj/lib/python2.7/site-packages (from jinja2->notebook>=4->jupyter-emacskeys)\n",
      "Requirement already satisfied: pyparsing in /home/arka_s/internship_files/Viterbi-Internship/my_proj/lib/python2.7/site-packages (from packaging>=16.8->setuptools>=18.5->ipython>=4->jupyter-emacskeys)\n",
      "Requirement already satisfied: functools32; python_version == \"2.7\" in /home/arka_s/internship_files/Viterbi-Internship/my_proj/lib/python2.7/site-packages (from jsonschema!=2.5.0,>=2.4->nbformat->notebook>=4->jupyter-emacskeys)\n",
      "Requirement already satisfied: html5lib!=0.9999,!=0.99999,<0.99999999,>=0.999 in /home/arka_s/internship_files/Viterbi-Internship/my_proj/lib/python2.7/site-packages (from bleach->nbconvert->notebook>=4->jupyter-emacskeys)\n",
      "Requirement already satisfied: configparser>=3.5; python_version == \"2.7\" in /home/arka_s/internship_files/Viterbi-Internship/my_proj/lib/python2.7/site-packages (from entrypoints>=0.2.2->nbconvert->notebook>=4->jupyter-emacskeys)\n",
      "Building wheels for collected packages: jupyter-emacskeys\n"
     ]
    },
    {
     "name": "stdout",
     "output_type": "stream",
     "text": [
      "  Running setup.py bdist_wheel for jupyter-emacskeys ... \u001b[?25lerror\n",
      "  Complete output from command /home/arka_s/internship_files/Viterbi-Internship/my_proj/bin/python -u -c \"import setuptools, tokenize;__file__='/tmp/pip-build-4E73vJ/jupyter-emacskeys/setup.py';f=getattr(tokenize, 'open', open)(__file__);code=f.read().replace('\\r\\n', '\\n');f.close();exec(compile(code, __file__, 'exec'))\" bdist_wheel -d /tmp/tmp5JkubYpip-wheel- --python-tag cp27:\n",
      "  running bdist_wheel\n",
      "  running build\n",
      "  running build_py\n",
      "  creating build\n",
      "  creating build/lib.linux-x86_64-2.7\n",
      "  creating build/lib.linux-x86_64-2.7/jupyter_emacskeys\n",
      "  copying jupyter_emacskeys/__init__.py -> build/lib.linux-x86_64-2.7/jupyter_emacskeys\n",
      "  running egg_info\n",
      "  writing requirements to jupyter_emacskeys.egg-info/requires.txt\n",
      "  writing jupyter_emacskeys.egg-info/PKG-INFO\n",
      "  writing top-level names to jupyter_emacskeys.egg-info/top_level.txt\n",
      "  writing dependency_links to jupyter_emacskeys.egg-info/dependency_links.txt\n",
      "  reading manifest file 'jupyter_emacskeys.egg-info/SOURCES.txt'\n",
      "  reading manifest template 'MANIFEST.in'\n",
      "  writing manifest file 'jupyter_emacskeys.egg-info/SOURCES.txt'\n",
      "  copying jupyter_emacskeys/init.js -> build/lib.linux-x86_64-2.7/jupyter_emacskeys\n",
      "  installing to build/bdist.linux-x86_64/wheel\n",
      "  running install\n",
      "  Installing Python module...\n",
      "  Traceback (most recent call last):\n",
      "    File \"<string>\", line 1, in <module>\n",
      "    File \"/tmp/pip-build-4E73vJ/jupyter-emacskeys/setup.py\", line 18, in <module>\n",
      "      include_package_data=True,\n",
      "    File \"/usr/lib/python2.7/distutils/core.py\", line 151, in setup\n",
      "      dist.run_commands()\n",
      "    File \"/usr/lib/python2.7/distutils/dist.py\", line 953, in run_commands\n",
      "      self.run_command(cmd)\n",
      "    File \"/usr/lib/python2.7/distutils/dist.py\", line 972, in run_command\n",
      "      cmd_obj.run()\n",
      "    File \"/home/arka_s/internship_files/Viterbi-Internship/my_proj/local/lib/python2.7/site-packages/wheel/bdist_wheel.py\", line 215, in run\n",
      "      self.run_command('install')\n",
      "    File \"/usr/lib/python2.7/distutils/cmd.py\", line 326, in run_command\n",
      "      self.distribution.run_command(command)\n",
      "    File \"/usr/lib/python2.7/distutils/dist.py\", line 972, in run_command\n",
      "      cmd_obj.run()\n",
      "    File \"basesetup.py\", line 83, in run\n",
      "      super(InstallCommand, self).run()\n",
      "  TypeError: super() argument 1 must be type, not classobj\n",
      "  \n",
      "  ----------------------------------------\n",
      "\u001b[31m  Failed building wheel for jupyter-emacskeys\u001b[0m\n",
      "\u001b[?25h  Running setup.py clean for jupyter-emacskeys\n",
      "Failed to build jupyter-emacskeys\n",
      "Installing collected packages: jupyter-emacskeys\n",
      "  Running setup.py install for jupyter-emacskeys ... \u001b[?25lerror\n",
      "    Complete output from command /home/arka_s/internship_files/Viterbi-Internship/my_proj/bin/python -u -c \"import setuptools, tokenize;__file__='/tmp/pip-build-4E73vJ/jupyter-emacskeys/setup.py';f=getattr(tokenize, 'open', open)(__file__);code=f.read().replace('\\r\\n', '\\n');f.close();exec(compile(code, __file__, 'exec'))\" install --record /tmp/pip-rnbqR4-record/install-record.txt --single-version-externally-managed --compile --install-headers /home/arka_s/internship_files/Viterbi-Internship/my_proj/include/site/python2.7/jupyter-emacskeys:\n",
      "    running install\n",
      "    Installing Python module...\n",
      "    Traceback (most recent call last):\n",
      "      File \"<string>\", line 1, in <module>\n",
      "      File \"/tmp/pip-build-4E73vJ/jupyter-emacskeys/setup.py\", line 18, in <module>\n",
      "        include_package_data=True,\n",
      "      File \"/usr/lib/python2.7/distutils/core.py\", line 151, in setup\n",
      "        dist.run_commands()\n",
      "      File \"/usr/lib/python2.7/distutils/dist.py\", line 953, in run_commands\n",
      "        self.run_command(cmd)\n",
      "      File \"/usr/lib/python2.7/distutils/dist.py\", line 972, in run_command\n",
      "        cmd_obj.run()\n",
      "      File \"basesetup.py\", line 83, in run\n",
      "        super(InstallCommand, self).run()\n",
      "    TypeError: super() argument 1 must be type, not classobj\n",
      "    \n",
      "    ----------------------------------------\n",
      "\u001b[31mCommand \"/home/arka_s/internship_files/Viterbi-Internship/my_proj/bin/python -u -c \"import setuptools, tokenize;__file__='/tmp/pip-build-4E73vJ/jupyter-emacskeys/setup.py';f=getattr(tokenize, 'open', open)(__file__);code=f.read().replace('\\r\\n', '\\n');f.close();exec(compile(code, __file__, 'exec'))\" install --record /tmp/pip-rnbqR4-record/install-record.txt --single-version-externally-managed --compile --install-headers /home/arka_s/internship_files/Viterbi-Internship/my_proj/include/site/python2.7/jupyter-emacskeys\" failed with error code 1 in /tmp/pip-build-4E73vJ/jupyter-emacskeys/\u001b[0m\n",
      "\u001b[?25h"
     ]
    }
   ],
   "source": []
  }
 ],
 "metadata": {
  "kernelspec": {
   "display_name": "Python 2",
   "language": "python",
   "name": "python2"
  },
  "language_info": {
   "codemirror_mode": {
    "name": "ipython",
    "version": 2
   },
   "file_extension": ".py",
   "mimetype": "text/x-python",
   "name": "python",
   "nbconvert_exporter": "python",
   "pygments_lexer": "ipython2",
   "version": "2.7.12"
  }
 },
 "nbformat": 4,
 "nbformat_minor": 2
}
