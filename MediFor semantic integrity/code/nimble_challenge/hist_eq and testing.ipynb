{
 "cells": [
  {
   "cell_type": "code",
   "execution_count": 22,
   "metadata": {},
   "outputs": [
    {
     "name": "stdout",
     "output_type": "stream",
     "text": [
      "Using matplotlib backend: TkAgg\n"
     ]
    }
   ],
   "source": [
    "%matplotlib\n",
    "import numpy as np\n",
    "import matplotlib.pyplot as plt\n",
    "import skimage\n",
    "from skimage import io\n",
    "io.use_plugin('matplotlib')"
   ]
  },
  {
   "cell_type": "code",
   "execution_count": 25,
   "metadata": {
    "collapsed": true
   },
   "outputs": [
    {
     "data": {
      "text/plain": [
       "array([[[206, 179, 171],\n",
       "        [154, 146, 132],\n",
       "        [162, 156, 154],\n",
       "        ..., \n",
       "        [124, 128,  98],\n",
       "        [135, 140, 113],\n",
       "        [133, 138, 110]],\n",
       "\n",
       "       [[255, 215, 202],\n",
       "        [160, 152, 141],\n",
       "        [190, 177, 180],\n",
       "        ..., \n",
       "        [150, 154, 135],\n",
       "        [160, 164, 148],\n",
       "        [154, 158, 140]],\n",
       "\n",
       "       [[255, 243, 227],\n",
       "        [125, 111,  90],\n",
       "        [170, 164, 160],\n",
       "        ..., \n",
       "        [205, 207, 190],\n",
       "        [196, 199, 183],\n",
       "        [184, 187, 174]],\n",
       "\n",
       "       ..., \n",
       "       [[225, 241, 232],\n",
       "        [225, 241, 232],\n",
       "        [225, 241, 232],\n",
       "        ..., \n",
       "        [225, 223, 207],\n",
       "        [221, 219, 207],\n",
       "        [221, 219, 207]],\n",
       "\n",
       "       [[225, 241, 232],\n",
       "        [225, 241, 232],\n",
       "        [225, 241, 232],\n",
       "        ..., \n",
       "        [221, 219, 203],\n",
       "        [216, 215, 203],\n",
       "        [216, 215, 203]],\n",
       "\n",
       "       [[227, 243, 233],\n",
       "        [225, 241, 232],\n",
       "        [223, 239, 230],\n",
       "        ..., \n",
       "        [218, 217, 202],\n",
       "        [212, 212, 200],\n",
       "        [212, 212, 200]]], dtype=uint8)"
      ]
     },
     "execution_count": 25,
     "metadata": {},
     "output_type": "execute_result"
    }
   ],
   "source": [
    "img1 = io.imread('../../data/protest_data/cropped/direct_cropped/beach_mdf_cropped_019.jpg')\n",
    "img11 = np.zeros(img1.shape)\n",
    "for i in range(3):\n",
    "    img11[:, :, i] = skimage.exposure.equalize_hist(img1[:, :, i])\n",
    "img12 = img11 * 256\n",
    "img13 = img12.astype('uint8')\n",
    "img14 = skimage.exposure.rescale_intensity(img11, out_range='uint8')\n",
    "img14\n",
    "# io.imshow(img14.astype('uint8'))\n",
    "img15 = img14.astype('uint8')\n",
    "img16 = skimage.img_as_ubyte(img11)\n",
    "# img16\n",
    "# io.imshow(img15)\n",
    "# io.imsave('test_img.png', img15)"
   ]
  },
  {
   "cell_type": "code",
   "execution_count": null,
   "metadata": {
    "collapsed": true
   },
   "outputs": [],
   "source": [
    "def good_hist_eq(img):\n",
    "    if len(img.shape) == 3:\n",
    "        img1 = np.zeros(img.shape)\n",
    "        for i in range(3):\n",
    "            img1[:, :, i] = skimage.exposure.equalize_hist(img[:, :, i])"
   ]
  },
  {
   "cell_type": "code",
   "execution_count": 13,
   "metadata": {},
   "outputs": [
    {
     "data": {
      "text/plain": [
       "<matplotlib.image.AxesImage at 0x7fa5f4e7c750>"
      ]
     },
     "execution_count": 13,
     "metadata": {},
     "output_type": "execute_result"
    }
   ],
   "source": [
    "img1 = io.imread('../../data/protest_data/cropped/hist_equalized/obama_mdf_cropped_heq_026.jpg')\n",
    "img2 = io.imread('/home/nkovvuri/Rama_Work/dataset/Protest_Images/Pruned_Protest_YFCCImages/protest_img_026.jpg')\n",
    "plt.figure()\n",
    "plt.subplot(2,1,1); plt.imshow(img1)\n",
    "plt.subplot(2,1,2); plt.imshow(img2)"
   ]
  },
  {
   "cell_type": "code",
   "execution_count": 14,
   "metadata": {
    "collapsed": true
   },
   "outputs": [],
   "source": [
    "run two_imgs_eff.py"
   ]
  },
  {
   "cell_type": "code",
   "execution_count": 17,
   "metadata": {},
   "outputs": [
    {
     "data": {
      "text/plain": [
       "{'metric': 'ncc', 'pear_ncc': 0.78917787229199388}"
      ]
     },
     "execution_count": 17,
     "metadata": {},
     "output_type": "execute_result"
    }
   ],
   "source": [
    "are_the_two_imgs_same(img1,img2)[-1]"
   ]
  },
  {
   "cell_type": "code",
   "execution_count": 27,
   "metadata": {},
   "outputs": [
    {
     "name": "stdout",
     "output_type": "stream",
     "text": [
      "('Original Image is of dtype ', dtype('uint8'))\n",
      "('Histogram Equalized Image is of dtype', dtype('float64'))\n"
     ]
    }
   ],
   "source": [
    "img1 = io.imread('../../data/protest_data/cropped/direct_cropped/paris_mdf_cropped_052.jpg')\n",
    "img11 = skimage.exposure.equalize_hist(img1)\n",
    "print('Original Image is of dtype ', img1.dtype)\n",
    "print('Histogram Equalized Image is of dtype', img11.dtype)"
   ]
  }
 ],
 "metadata": {
  "celltoolbar": "Attachments",
  "kernelspec": {
   "display_name": "Python 2",
   "language": "python",
   "name": "python2"
  },
  "language_info": {
   "codemirror_mode": {
    "name": "ipython",
    "version": 2
   },
   "file_extension": ".py",
   "mimetype": "text/x-python",
   "name": "python",
   "nbconvert_exporter": "python",
   "pygments_lexer": "ipython2",
   "version": "2.7.12"
  }
 },
 "nbformat": 4,
 "nbformat_minor": 2
}
