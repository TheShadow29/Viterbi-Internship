{
 "cells": [
  {
   "cell_type": "code",
   "execution_count": 1,
   "metadata": {
    "collapsed": true
   },
   "outputs": [],
   "source": [
    "import prov_ref_node_creator as prnc\n",
    "import networkx as nx\n",
    "import pandas as pd\n",
    "import pdb\n",
    "import os\n",
    "import two_imgs_eff\n",
    "import pickle\n",
    "from get_all_feature_vecs17 import info_storer, info_storer_all\n",
    "import matplotlib.pyplot as plt\n",
    "# import disp_img\n",
    "import imshow_coll\n",
    "import numpy as np\n",
    "from itertools import chain"
   ]
  },
  {
   "cell_type": "code",
   "execution_count": 28,
   "metadata": {
    "collapsed": true
   },
   "outputs": [],
   "source": [
    "def contracted_nodes(G, u, v, self_loops=True):\n",
    "    \"\"\"Returns the graph that results from contracting `u` and `v`.\n",
    "    Node contraction identifies the two nodes as a single node incident to any\n",
    "    edge that was incident to the original two nodes.\n",
    "    Parameters\n",
    "    ----------\n",
    "    G : NetworkX graph\n",
    "       The graph whose nodes will be contracted.\n",
    "    u, v : nodes\n",
    "       Must be nodes in `G`.\n",
    "    self_loops : Boolean\n",
    "       If this is True, any edges joining `u` and `v` in `G` become\n",
    "       self-loops on the new node in the returned graph.\n",
    "    Returns\n",
    "    -------\n",
    "    Networkx graph\n",
    "       A new graph object of the same type as `G` (leaving `G` unmodified)\n",
    "       with `u` and `v` identified in a single node. The right node `v`\n",
    "       will be merged into the node `u`, so only `u` will appear in the\n",
    "       returned graph.\n",
    "    Examples\n",
    "    --------\n",
    "    Contracting two nonadjacent nodes of the cycle graph on four nodes `C_4`\n",
    "    yields the path graph (ignoring parallel edges)::\n",
    "        >>> import networkx as nx\n",
    "        >>> G = nx.cycle_graph(4)\n",
    "        >>> M = nx.contracted_nodes(G, 1, 3)\n",
    "        >>> P3 = nx.path_graph(3)\n",
    "        >>> nx.is_isomorphic(M, P3)\n",
    "        True\n",
    "    See also\n",
    "    --------\n",
    "    contracted_edge\n",
    "    quotient_graph\n",
    "    Notes\n",
    "    -----\n",
    "    This function is also available as `identified_nodes`.\n",
    "    \"\"\"\n",
    "\n",
    "    H = G.copy()\n",
    "    if H.is_directed():\n",
    "        in_edges = ((w, u, d) for w, x, d in G.in_edges(v, data=True)\n",
    "                    if self_loops or w != u)\n",
    "        out_edges = ((u, w, d) for x, w, d in G.out_edges(v, data=True)\n",
    "                     if self_loops or w != u)\n",
    "        new_edges = chain(in_edges, out_edges)\n",
    "    else:\n",
    "#         new_edges = ((u, w, d) for x, w, d in G.edges(v, data=True)\n",
    "#                      if self_loops or w != u)\n",
    "        new_edges = ((u, w, d) for x, w, d in G.edges(v, data=True)\n",
    "                     if self_loops or w != u)\n",
    "        new_edges = list()\n",
    "        nodes_u = [w for x,w in G.edges(u)]\n",
    "        for x,w,d in G.edges(v, data=True):\n",
    "            if w != u:\n",
    "                if w not in nodes_u:\n",
    "                    new_edges.append((u, w, d))\n",
    "                else:\n",
    "                    max_d = max(d, G[u][w])\n",
    "                    new_edges.append((u,w,max_d))\n",
    "                    \n",
    "    v_data = H.node[v]\n",
    "#     pdb.set_trace()\n",
    "    H.remove_node(v)\n",
    "    H.add_edges_from(new_edges)\n",
    "    if 'contraction' in H.node[u]:\n",
    "        H.node[u]['contraction'][v] = v_data\n",
    "    else:\n",
    "        H.node[u]['contraction'] = {v: v_data}\n",
    "    return H"
   ]
  },
  {
   "cell_type": "code",
   "execution_count": 27,
   "metadata": {},
   "outputs": [
    {
     "name": "stdout",
     "output_type": "stream",
     "text": [
      "Using matplotlib backend: TkAgg\n"
     ]
    },
    {
     "data": {
      "text/plain": [
       "[(0, 2, {'weight': 0.6}),\n",
       " (0, 4, {'weight': 0.6}),\n",
       " (0, 6, {'weight': 0.6}),\n",
       " (1, 3, {'weight': 0.5}),\n",
       " (1, 5, {'weight': 0.5}),\n",
       " (1, 6, {'weight': 0.7}),\n",
       " (1, 7, {'weight': 0.5})]"
      ]
     },
     "execution_count": 27,
     "metadata": {},
     "output_type": "execute_result"
    }
   ],
   "source": [
    "%matplotlib\n",
    "G = nx.Graph()\n",
    "G.add_edge(1,3,weight=0.5)\n",
    "G.add_edge(1,5,weight=0.5)\n",
    "G.add_edge(1,7,weight=0.5)\n",
    "G.add_edge(0,2,weight=0.6)\n",
    "G.add_edge(0,4,weight=0.6)\n",
    "G.add_edge(0,6,weight=0.6)\n",
    "G.add_edge(1,6,weight=0.7)\n",
    "# nx.draw(G)\n",
    "G.edges(data=True)"
   ]
  },
  {
   "cell_type": "code",
   "execution_count": 31,
   "metadata": {},
   "outputs": [
    {
     "data": {
      "text/plain": [
       "[(1, 2, {'weight': 0.6}),\n",
       " (1, 3, {'weight': 0.5}),\n",
       " (1, 4, {'weight': 0.6}),\n",
       " (1, 5, {'weight': 0.5}),\n",
       " (1, 6, {'weight': 0.7}),\n",
       " (1, 7, {'weight': 0.5})]"
      ]
     },
     "execution_count": 31,
     "metadata": {},
     "output_type": "execute_result"
    }
   ],
   "source": [
    "H = contracted_nodes(G,1,0)\n",
    "H.edges(data=True)"
   ]
  },
  {
   "cell_type": "code",
   "execution_count": 36,
   "metadata": {},
   "outputs": [
    {
     "data": {
      "text/plain": [
       "[(1, 2, {'weight': 0.6}),\n",
       " (1, 3, {'weight': 0.5}),\n",
       " (1, 4, {'weight': 0.6}),\n",
       " (1, 5, {'weight': 0.5}),\n",
       " (1, 6, {'weight': 0.6}),\n",
       " (1, 7, {'weight': 0.5})]"
      ]
     },
     "execution_count": 36,
     "metadata": {},
     "output_type": "execute_result"
    }
   ],
   "source": [
    "M = nx.contracted_nodes(G,1,0)\n",
    "M.edges(data=True)"
   ]
  },
  {
   "cell_type": "code",
   "execution_count": 35,
   "metadata": {},
   "outputs": [
    {
     "name": "stdout",
     "output_type": "stream",
     "text": [
      "(1, 2, {'weight': 0.6})\n",
      "(1, 4, {'weight': 0.6})\n",
      "(1, 6, {'weight': 0.7})\n"
     ]
    }
   ],
   "source": [
    "H = contracted_nodes(G,0,1)\n",
    "# H.edges(data=True)\n",
    "# G.node[1]\n",
    "self_loops = False\n",
    "u = 1\n",
    "v = 0\n",
    "new_edges = ((u, w, d) for x, w, d in G.edges(v, data=True)\n",
    "                     if self_loops or w != u)\n",
    "new_edges = list()\n",
    "nodes_u = [w for x,w in G.edges(u)]\n",
    "for x,w,d in G.edges(v, data=True):\n",
    "    if w != u:\n",
    "        if w not in nodes_u:\n",
    "            new_edges.append((u, w, d))\n",
    "        else:\n",
    "            max_d = max(d, G[u][w])\n",
    "            new_edges.append((u,w,max_d))\n",
    "dir(new_edges)\n",
    "for i in new_edges:\n",
    "    print i"
   ]
  },
  {
   "cell_type": "code",
   "execution_count": 55,
   "metadata": {},
   "outputs": [
    {
     "data": {
      "text/plain": [
       "0.1"
      ]
     },
     "execution_count": 55,
     "metadata": {},
     "output_type": "execute_result"
    }
   ],
   "source": [
    "class complex:\n",
    "    def __init__(self, r, i):\n",
    "        self.r = r\n",
    "        self.i = i\n",
    "G1 = nx.Graph()\n",
    "c1 = complex(3,4)\n",
    "G1.add_edge(c1, complex(4,5), weight=0.1)\n",
    "# G1.edges(data=True)[0][0].r\n",
    "a1 = G1[G1.nodes()[0]]\n",
    "k1 = a1.keys()[0]\n",
    "a1[k1]['weight']"
   ]
  }
 ],
 "metadata": {
  "kernelspec": {
   "display_name": "Python 2",
   "language": "python",
   "name": "python2"
  },
  "language_info": {
   "codemirror_mode": {
    "name": "ipython",
    "version": 2
   },
   "file_extension": ".py",
   "mimetype": "text/x-python",
   "name": "python",
   "nbconvert_exporter": "python",
   "pygments_lexer": "ipython2",
   "version": "2.7.12"
  }
 },
 "nbformat": 4,
 "nbformat_minor": 2
}
