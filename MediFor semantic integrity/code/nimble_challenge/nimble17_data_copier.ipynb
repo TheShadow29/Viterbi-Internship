{
 "cells": [
  {
   "cell_type": "code",
   "execution_count": 1,
   "metadata": {
    "collapsed": true
   },
   "outputs": [],
   "source": [
    "# copy relevant data, only then change jpg to png\n",
    "# first create the class and all\n",
    "import parse_all_data_nimble17 as par"
   ]
  },
  {
   "cell_type": "code",
   "execution_count": 2,
   "metadata": {},
   "outputs": [
    {
     "name": "stdout",
     "output_type": "stream",
     "text": [
      "world/414c1f66804a0f8de50142b6665d9d14.jpg\n"
     ]
    }
   ],
   "source": [
    "prov_ref = par.nimble_references(par.prov_ref_file)\n",
    "prov_ref.populate_data()\n",
    "p1 = prov_ref.data[0]\n",
    "print(p1.base_file_name)"
   ]
  },
  {
   "cell_type": "code",
   "execution_count": null,
   "metadata": {},
   "outputs": [],
   "source": [
    "man_ref = par.nimble_references(par.man_ref_file)\n",
    "man_ref.populate_data()\n",
    "m2 = man_ref.data[0]\n",
    "print(m2.is_target)"
   ]
  },
  {
   "cell_type": "code",
   "execution_count": null,
   "metadata": {},
   "outputs": [],
   "source": [
    "splice_ref = par.nimble_references(par.splice_ref_file)\n",
    "splice_ref.populate_data()\n",
    "s1 = splice_ref.data[0]\n",
    "print(s1.is_target)\n",
    "# print(s1.__dict__)\n"
   ]
  },
  {
   "cell_type": "code",
   "execution_count": 5,
   "metadata": {
    "collapsed": true
   },
   "outputs": [],
   "source": [
    "import os\n",
    "def get_file_full_path(fid,fol):\n",
    "    if fol == 'probe':\n",
    "        tdir = '/arka_data/NC2017_Dev1_Beta4/probe/'\n",
    "    elif fol == 'world':\n",
    "        tdir = '/arka_data/NC2017_Dev1_Beta4/world/'\n",
    "    for i in os.listdir(tdir):\n",
    "        if str(fid) in i:\n",
    "            return tdir + i\n",
    "    return -1"
   ]
  },
  {
   "cell_type": "code",
   "execution_count": null,
   "metadata": {},
   "outputs": [],
   "source": [
    "import shutil\n",
    "dest_path_l = lambda x : '../../data/nimble17_data/manipulated/' + str(x)\n",
    "num_files = 0\n",
    "err_files = 0\n",
    "counter = 0\n",
    "for m in man_ref.data:\n",
    "    counter += 1\n",
    "    if (m.is_target == 'Y'):\n",
    "        num_files += 1\n",
    "        if not os.path.isdir(dest_path_l(counter)):\n",
    "            os.mkdir(dest_path_l(counter))\n",
    "            \n",
    "        src1 = get_file_full_path(m.probe_file_id,'probe')\n",
    "        src2 = get_file_full_path(m.base_browser_file_name[:-4],'world')\n",
    "        shutil.copy2(src1, dest_path_l(counter))\n",
    "        shutil.copy2(src2, dest_path_l(counter))\n",
    "#         if src1 == -1 or src2 == -1:\n",
    "#             err_files += 1\n",
    "print (num_files)"
   ]
  },
  {
   "cell_type": "code",
   "execution_count": null,
   "metadata": {},
   "outputs": [],
   "source": [
    "import shutil\n",
    "dest_path_l = lambda x : '../../data/nimble17_data/spliced/' + str(x)\n",
    "num_files = 0\n",
    "err_files = 0\n",
    "counter = 0\n",
    "for s in splice_ref.data:\n",
    "    counter += 1\n",
    "    if (s.is_target == 'Y'):\n",
    "        num_files += 1\n",
    "        if not os.path.isdir(dest_path_l(counter)):\n",
    "            os.mkdir(dest_path_l(counter))\n",
    "            \n",
    "        src1 = get_file_full_path(s.probe_file_id,'probe')\n",
    "        src2 = get_file_full_path(s.base_browser_file_name[:-4],'world')\n",
    "        shutil.copy2(src1, dest_path_l(counter))\n",
    "        shutil.copy2(src2, dest_path_l(counter))\n",
    "#         if src1 == -1 or src2 == -1:\n",
    "#             err_files += 1\n",
    "print (num_files)"
   ]
  },
  {
   "cell_type": "code",
   "execution_count": 15,
   "metadata": {},
   "outputs": [
    {
     "name": "stdout",
     "output_type": "stream",
     "text": [
      "(0, 65)\n"
     ]
    }
   ],
   "source": [
    "import shutil\n",
    "dest_path_l = lambda x : '../../data/nimble17_data/provenance/' + str(x)\n",
    "num_files = 0\n",
    "err_files = 0\n",
    "counter = 0\n",
    "for p in prov_ref.data:\n",
    "    counter += 1\n",
    "#     if (s.is_target == 'Y'):\n",
    "    num_files += 1\n",
    "    if not os.path.isdir(dest_path_l(counter)):\n",
    "        os.mkdir(dest_path_l(counter))\n",
    "            \n",
    "    src1 = get_file_full_path(p.provenance_probe_file_name[6:-4],'world')\n",
    "#     print p.provenance_probe_file_name[6:-4]\n",
    "    src2 = get_file_full_path(p.base_browser_file_name[6:-4],'world')\n",
    "    shutil.copy2(src1, dest_path_l(counter))\n",
    "    shutil.copy2(src2, dest_path_l(counter))\n",
    "    if src1 == -1 or src2 == -1:\n",
    "        err_files += 1\n",
    "print (err_files,num_files)"
   ]
  },
  {
   "cell_type": "code",
   "execution_count": null,
   "metadata": {},
   "outputs": [],
   "source": [
    "m1 = man_ref.data[0]\n",
    "get_file_full_path(m1.probe_file_id,'probe')"
   ]
  },
  {
   "cell_type": "code",
   "execution_count": null,
   "metadata": {},
   "outputs": [],
   "source": [
    "m1.base_browser_file_name[:-4]"
   ]
  },
  {
   "cell_type": "code",
   "execution_count": null,
   "metadata": {},
   "outputs": [],
   "source": [
    "s2 = splice_ref.data[1027]\n",
    "print(s2.probe_file_id)\n",
    "print(s2.base_browser_file_name)"
   ]
  },
  {
   "cell_type": "code",
   "execution_count": 19,
   "metadata": {},
   "outputs": [
    {
     "data": {
      "text/plain": [
       "'spliced'"
      ]
     },
     "execution_count": 19,
     "metadata": {},
     "output_type": "execute_result"
    }
   ],
   "source": [
    "img_top_dir = '../../data/nimble17_data/spliced/' # \n",
    "fol = img_top_dir.split(\"/\")[-2]\n",
    "fol"
   ]
  },
  {
   "cell_type": "code",
   "execution_count": null,
   "metadata": {
    "collapsed": true
   },
   "outputs": [],
   "source": []
  }
 ],
 "metadata": {
  "kernelspec": {
   "display_name": "Python 2",
   "language": "python",
   "name": "python2"
  },
  "language_info": {
   "codemirror_mode": {
    "name": "ipython",
    "version": 2
   },
   "file_extension": ".py",
   "mimetype": "text/x-python",
   "name": "python",
   "nbconvert_exporter": "python",
   "pygments_lexer": "ipython2",
   "version": "2.7.12"
  }
 },
 "nbformat": 4,
 "nbformat_minor": 2
}
