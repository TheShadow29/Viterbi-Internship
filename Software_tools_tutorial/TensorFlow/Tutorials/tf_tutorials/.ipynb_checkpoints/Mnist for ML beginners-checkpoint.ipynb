{
 "cells": [
  {
   "cell_type": "code",
   "execution_count": 1,
   "metadata": {},
   "outputs": [
    {
     "name": "stdout",
     "output_type": "stream",
     "text": [
      "Extracting MNIST_data/train-images-idx3-ubyte.gz\n",
      "Extracting MNIST_data/train-labels-idx1-ubyte.gz\n",
      "Extracting MNIST_data/t10k-images-idx3-ubyte.gz\n",
      "Extracting MNIST_data/t10k-labels-idx1-ubyte.gz\n"
     ]
    }
   ],
   "source": [
    "from tensorflow.examples.tutorials.mnist import input_data\n",
    "mnist = input_data.read_data_sets(\"MNIST_data/\", one_hot=True)"
   ]
  },
  {
   "cell_type": "code",
   "execution_count": null,
   "metadata": {
    "collapsed": true
   },
   "outputs": [],
   "source": [
    "# mnist data is split into : Training, Testing , Validation [55k, 10k, 5k]\n",
    "# This is required so that we can be sure that our method generalizes\n",
    "# mnist has both, the image and the label\n",
    "# mnist.train.labels, and mnist.train.images\n",
    "# Each image is 28x28 : Can interpret this as big array of numbers\n",
    "# Can flatten it to 784 dim vector\n",
    "# Flattening may be bad, and best cv methods do exploit it, but here we don't\n",
    "# here using a simple softmax regression\n",
    "# the result is that the image is 55k, 784 tensor\n",
    "# each entry in the tensor is a 1bit image\n",
    "# In this tutorial we will use one-hot vector\n",
    "# therefore mnist.train.labels is [55k, 10] tensor\n",
    "# softmax regression has 2 steps:\n",
    "# add up evidences, then convert them to probabilities\n",
    "# evidence_i = \\sum_{j} W_{i,j}x_{j} + b_{i}\n",
    "# y = softmax(evidence)\n",
    "# softmax(x)= normalize(exp(x))"
   ]
  },
  {
   "cell_type": "code",
   "execution_count": 1,
   "metadata": {
    "collapsed": true
   },
   "outputs": [],
   "source": [
    "import tensorflow as tf\n",
    "x = tf.placeholder(tf.float32,[None, 784])"
   ]
  }
 ],
 "metadata": {
  "kernelspec": {
   "display_name": "Python 2",
   "language": "python",
   "name": "python2"
  },
  "language_info": {
   "codemirror_mode": {
    "name": "ipython",
    "version": 2
   },
   "file_extension": ".py",
   "mimetype": "text/x-python",
   "name": "python",
   "nbconvert_exporter": "python",
   "pygments_lexer": "ipython2",
   "version": "2.7.12"
  }
 },
 "nbformat": 4,
 "nbformat_minor": 2
}
