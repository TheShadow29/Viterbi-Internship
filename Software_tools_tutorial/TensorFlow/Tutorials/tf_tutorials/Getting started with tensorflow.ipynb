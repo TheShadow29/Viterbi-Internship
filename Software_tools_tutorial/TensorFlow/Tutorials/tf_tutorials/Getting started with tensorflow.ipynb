{
 "cells": [
  {
   "cell_type": "code",
   "execution_count": 1,
   "metadata": {
    "collapsed": true
   },
   "outputs": [],
   "source": [
    "import tensorflow as tf"
   ]
  },
  {
   "cell_type": "code",
   "execution_count": 2,
   "metadata": {},
   "outputs": [
    {
     "name": "stdout",
     "output_type": "stream",
     "text": [
      "(<tf.Tensor 'Const:0' shape=() dtype=float32>, <tf.Tensor 'Const_1:0' shape=() dtype=float32>)\n"
     ]
    }
   ],
   "source": [
    "node1 = tf.constant(3.0,tf.float32)\n",
    "node2 = tf.constant(4.0,tf.float32)\n",
    "print(node1, node2)"
   ]
  },
  {
   "cell_type": "code",
   "execution_count": 3,
   "metadata": {},
   "outputs": [
    {
     "name": "stdout",
     "output_type": "stream",
     "text": [
      "[3.0, 4.0]\n"
     ]
    }
   ],
   "source": [
    "sess = tf.Session()\n",
    "print(sess.run([node1,node2]))"
   ]
  },
  {
   "cell_type": "code",
   "execution_count": 4,
   "metadata": {},
   "outputs": [
    {
     "name": "stdout",
     "output_type": "stream",
     "text": [
      "('node3 :', <tf.Tensor 'Add:0' shape=() dtype=float32>)\n",
      "7.0\n"
     ]
    }
   ],
   "source": [
    "node3 = tf.add(node1, node2)\n",
    "print('node3 :', node3)\n",
    "print(sess.run(node3))"
   ]
  },
  {
   "cell_type": "code",
   "execution_count": 5,
   "metadata": {},
   "outputs": [
    {
     "name": "stdout",
     "output_type": "stream",
     "text": [
      "7.0\n",
      "[ 3.  5.]\n"
     ]
    }
   ],
   "source": [
    "a = tf.placeholder(tf.float32)\n",
    "b = tf.placeholder(tf.float32)\n",
    "adder_node = a + b #+ provides a shortcut for tf.add\n",
    "print(sess.run(adder_node,{a : 3, b: 4}))\n",
    "print(sess.run(adder_node,{a : [0,1], b: [3,4]}))"
   ]
  },
  {
   "cell_type": "code",
   "execution_count": 6,
   "metadata": {},
   "outputs": [
    {
     "name": "stdout",
     "output_type": "stream",
     "text": [
      "21.0\n",
      "[  9.  15.]\n"
     ]
    }
   ],
   "source": [
    "# can make it slightly more complex\n",
    "add_and_triple = adder_node * 3\n",
    "print(sess.run(add_and_triple, {a : 3, b : 4}))\n",
    "print(sess.run(add_and_triple, {a  : [0,1], b: [3,4]}))"
   ]
  },
  {
   "cell_type": "code",
   "execution_count": 7,
   "metadata": {
    "collapsed": true
   },
   "outputs": [],
   "source": [
    "# Variables\n",
    "W = tf.Variable([.3],tf.float32)\n",
    "b = tf.Variable([-.3], tf.float32)\n",
    "x = tf.placeholder(tf.float32)\n",
    "lin_reg = W*x + b"
   ]
  },
  {
   "cell_type": "code",
   "execution_count": 8,
   "metadata": {
    "collapsed": true
   },
   "outputs": [],
   "source": [
    "init = tf.global_variables_initializer()\n",
    "sess.run(init)"
   ]
  },
  {
   "cell_type": "code",
   "execution_count": 9,
   "metadata": {},
   "outputs": [
    {
     "name": "stdout",
     "output_type": "stream",
     "text": [
      "[ 0.          0.30000001  0.60000002  0.90000004]\n"
     ]
    }
   ],
   "source": [
    "print(sess.run(lin_reg, {x : [1,2,3,4]}))"
   ]
  },
  {
   "cell_type": "code",
   "execution_count": 10,
   "metadata": {},
   "outputs": [
    {
     "name": "stdout",
     "output_type": "stream",
     "text": [
      "23.66\n"
     ]
    }
   ],
   "source": [
    "y = tf.placeholder(tf.float32)\n",
    "sq_deltas = tf.square(lin_reg - y)\n",
    "loss = tf.reduce_sum(sq_deltas)\n",
    "print(sess.run(loss,{x: [1,2,3,4], y: [0,-1,-2,-3]}))"
   ]
  },
  {
   "cell_type": "code",
   "execution_count": 11,
   "metadata": {},
   "outputs": [
    {
     "name": "stdout",
     "output_type": "stream",
     "text": [
      "0.0\n"
     ]
    }
   ],
   "source": [
    "fixW = tf.assign(W, [-1.])\n",
    "fixb = tf.assign(b, [1.])\n",
    "sess.run([fixW, fixb])\n",
    "print(sess.run(loss, {x:[1,2,3,4], y:[0,-1,-2,-3]}))"
   ]
  },
  {
   "cell_type": "code",
   "execution_count": 19,
   "metadata": {},
   "outputs": [
    {
     "name": "stdout",
     "output_type": "stream",
     "text": [
      "[array([-0.9999969], dtype=float32), array([ 0.99999082], dtype=float32)]\n"
     ]
    }
   ],
   "source": [
    "# tf.train API\n",
    "optimizer = tf.train.GradientDescentOptimizer(0.01)#takes input lr\n",
    "train = optimizer.minimize(loss)\n",
    "sess.run(init) #reset all variables to initial values\n",
    "for i in range(1000):\n",
    "    sess.run(train,{x : [1,2,3,4], y : [0,-1,-2,-3]})\n",
    "print (sess.run([W,b]))"
   ]
  },
  {
   "cell_type": "code",
   "execution_count": 22,
   "metadata": {},
   "outputs": [
    {
     "name": "stdout",
     "output_type": "stream",
     "text": [
      "INFO:tensorflow:Using default config.\n",
      "INFO:tensorflow:Using config: {'_model_dir': None, '_save_checkpoints_secs': 600, '_num_ps_replicas': 0, '_keep_checkpoint_max': 5, '_tf_random_seed': None, '_task_type': None, '_environment': 'local', '_is_chief': True, '_cluster_spec': <tensorflow.python.training.server_lib.ClusterSpec object at 0x7f94a3737ed0>, '_tf_config': gpu_options {\n",
      "  per_process_gpu_memory_fraction: 1.0\n",
      "}\n",
      ", '_num_worker_replicas': 0, '_task_id': 0, '_save_summary_steps': 100, '_save_checkpoints_steps': None, '_evaluation_master': '', '_keep_checkpoint_every_n_hours': 10000, '_master': ''}\n",
      "WARNING:tensorflow:Using temporary folder as model directory: /tmp/tmpjqfE3V\n",
      "WARNING:tensorflow:Rank of input Tensor (1) should be the same as output_rank (2) for column. Will attempt to expand dims. It is highly recommended that you resize your input, as this behavior may change.\n",
      "WARNING:tensorflow:From /home/arka_s/internship_files/Viterbi-Internship/my_proj/local/lib/python2.7/site-packages/tensorflow/contrib/learn/python/learn/estimators/head.py:615: scalar_summary (from tensorflow.python.ops.logging_ops) is deprecated and will be removed after 2016-11-30.\n",
      "Instructions for updating:\n",
      "Please switch to tf.summary.scalar. Note that tf.summary.scalar uses the node name instead of the tag. This means that TensorFlow will automatically de-duplicate summary names based on the scope they are created in. Also, passing a tensor or list of tags to a scalar summary op is no longer supported.\n",
      "INFO:tensorflow:Create CheckpointSaverHook.\n",
      "INFO:tensorflow:Saving checkpoints for 1 into /tmp/tmpjqfE3V/model.ckpt.\n",
      "INFO:tensorflow:loss = 5.5, step = 1\n",
      "INFO:tensorflow:global_step/sec: 739.4\n",
      "INFO:tensorflow:loss = 0.0892009, step = 101 (0.136 sec)\n",
      "INFO:tensorflow:global_step/sec: 939.85\n",
      "INFO:tensorflow:loss = 0.020696, step = 201 (0.106 sec)\n",
      "INFO:tensorflow:global_step/sec: 942.206\n",
      "INFO:tensorflow:loss = 0.00326708, step = 301 (0.106 sec)\n",
      "INFO:tensorflow:global_step/sec: 1028.61\n",
      "INFO:tensorflow:loss = 0.000328471, step = 401 (0.097 sec)\n",
      "INFO:tensorflow:global_step/sec: 971.779\n",
      "INFO:tensorflow:loss = 5.5684e-05, step = 501 (0.103 sec)\n",
      "INFO:tensorflow:global_step/sec: 884.18\n",
      "INFO:tensorflow:loss = 9.76579e-05, step = 601 (0.113 sec)\n",
      "INFO:tensorflow:global_step/sec: 743.489\n",
      "INFO:tensorflow:loss = 1.8121e-05, step = 701 (0.135 sec)\n",
      "INFO:tensorflow:global_step/sec: 786.232\n",
      "INFO:tensorflow:loss = 1.38565e-05, step = 801 (0.127 sec)\n",
      "INFO:tensorflow:global_step/sec: 1018.44\n",
      "INFO:tensorflow:loss = 1.40335e-06, step = 901 (0.098 sec)\n",
      "INFO:tensorflow:Saving checkpoints for 1000 into /tmp/tmpjqfE3V/model.ckpt.\n",
      "INFO:tensorflow:Loss for final step: 4.04379e-07.\n",
      "WARNING:tensorflow:Rank of input Tensor (1) should be the same as output_rank (2) for column. Will attempt to expand dims. It is highly recommended that you resize your input, as this behavior may change.\n",
      "WARNING:tensorflow:From /home/arka_s/internship_files/Viterbi-Internship/my_proj/local/lib/python2.7/site-packages/tensorflow/contrib/learn/python/learn/estimators/head.py:615: scalar_summary (from tensorflow.python.ops.logging_ops) is deprecated and will be removed after 2016-11-30.\n",
      "Instructions for updating:\n",
      "Please switch to tf.summary.scalar. Note that tf.summary.scalar uses the node name instead of the tag. This means that TensorFlow will automatically de-duplicate summary names based on the scope they are created in. Also, passing a tensor or list of tags to a scalar summary op is no longer supported.\n",
      "INFO:tensorflow:Starting evaluation at 2017-06-01-19:47:38\n",
      "INFO:tensorflow:Restoring parameters from /tmp/tmpjqfE3V/model.ckpt-1000\n",
      "INFO:tensorflow:Finished evaluation at 2017-06-01-19:47:39\n",
      "INFO:tensorflow:Saving dict for global step 1000: global_step = 1000, loss = 4.39386e-07\n",
      "WARNING:tensorflow:Skipping summary for global_step, must be a float or np.float32.\n",
      "{'loss': 4.3938556e-07, 'global_step': 1000}\n"
     ]
    },
    {
     "data": {
      "text/plain": [
       "{'params': {'feature_columns': [_RealValuedColumn(column_name='x', dimension=1, default_value=None, dtype=tf.float32, normalizer=None)],\n",
       "  'gradient_clip_norm': None,\n",
       "  'head': <tensorflow.contrib.learn.python.learn.estimators.head._RegressionHead at 0x7f94a3719ad0>,\n",
       "  'joint_weights': False,\n",
       "  'optimizer': None}}"
      ]
     },
     "execution_count": 22,
     "metadata": {},
     "output_type": "execute_result"
    }
   ],
   "source": [
    "# tf.contrib.learn : Claims to make life easier\n",
    "import tensorflow as tf\n",
    "# np used to load, preprocess and manipulate data\n",
    "import numpy as np\n",
    "# declare list of features\n",
    "# here we have only one type of real-valued feature\n",
    "# There are many other types of columns that could be more useful\n",
    "features = [tf.contrib.layers.real_valued_column(\"x\",dimension=1)]\n",
    "# An estimator is the front end to invoke training (fitting) and evaluation\n",
    "# (inference). There are many predefined types like linear regression,\n",
    "# logistic regression, linear classification, logistic classification, and\n",
    "# many neural network classifiers and regressors. The following code\n",
    "# provides an estimator that does linear regression.\n",
    "estimator = tf.contrib.learn.LinearRegressor(feature_columns=features)\n",
    "x = np.array([1,2,3,4])\n",
    "y = np.array([0,-1,-2,-3])\n",
    "input_fn = tf.contrib.learn.io.numpy_input_fn({\"x\":x}, y, batch_size = 4, num_epochs = 1000)\n",
    "# We can invoke 1000 training steps by invoking the `fit` method and passing the\n",
    "# training data set\n",
    "estimator.fit(input_fn = input_fn, steps = 1000)\n",
    "# Here we evaluate how well our model did. In a real example, we would want\n",
    "# to use a separate validation and testing data set to avoid overfitting.\n",
    "print(estimator.evaluate(input_fn=input_fn))\n",
    "estimator.get_params()"
   ]
  },
  {
   "cell_type": "code",
   "execution_count": 36,
   "metadata": {},
   "outputs": [
    {
     "name": "stdout",
     "output_type": "stream",
     "text": [
      "['global_step', 'linear/bias_weight', 'linear/bias_weight/ear/bias_weight/part_0/Ftrl', 'linear/bias_weight/ear/bias_weight/part_0/Ftrl_1', 'linear/x/weight', 'linear/x/weight/linear/x/weight/part_0/Ftrl', 'linear/x/weight/linear/x/weight/part_0/Ftrl_1']\n",
      "('global_step', 1000)\n",
      "('linear/bias_weight', array([ 0.99839437], dtype=float32))\n",
      "('linear/bias_weight/ear/bias_weight/part_0/Ftrl', array([ 53.72570419], dtype=float32))\n",
      "('linear/bias_weight/ear/bias_weight/part_0/Ftrl_1', array([-36.590065], dtype=float32))\n",
      "('linear/x/weight', array([[-0.99942887]], dtype=float32))\n",
      "('linear/x/weight/linear/x/weight/part_0/Ftrl', array([[ 496.82763672]], dtype=float32))\n",
      "('linear/x/weight/linear/x/weight/part_0/Ftrl_1', array([[ 111.3844986]], dtype=float32))\n"
     ]
    }
   ],
   "source": [
    "print(estimator.get_variable_names())\n",
    "# estimator.get_variable_value(estimator.get_variable_names()[0])\n",
    "for name in estimator.get_variable_names():\n",
    "    print (name, estimator.get_variable_value(name))"
   ]
  },
  {
   "cell_type": "code",
   "execution_count": 37,
   "metadata": {},
   "outputs": [
    {
     "name": "stdout",
     "output_type": "stream",
     "text": [
      "INFO:tensorflow:Using default config.\n",
      "INFO:tensorflow:Using config: {'_model_dir': None, '_save_checkpoints_secs': 600, '_num_ps_replicas': 0, '_keep_checkpoint_max': 5, '_tf_random_seed': None, '_task_type': None, '_environment': 'local', '_is_chief': True, '_cluster_spec': <tensorflow.python.training.server_lib.ClusterSpec object at 0x7f94a3489910>, '_tf_config': gpu_options {\n",
      "  per_process_gpu_memory_fraction: 1.0\n",
      "}\n",
      ", '_num_worker_replicas': 0, '_task_id': 0, '_save_summary_steps': 100, '_save_checkpoints_steps': None, '_evaluation_master': '', '_keep_checkpoint_every_n_hours': 10000, '_master': ''}\n",
      "WARNING:tensorflow:Using temporary folder as model directory: /tmp/tmpb_zeu9\n",
      "INFO:tensorflow:Create CheckpointSaverHook.\n",
      "INFO:tensorflow:Saving checkpoints for 1 into /tmp/tmpb_zeu9/model.ckpt.\n",
      "INFO:tensorflow:loss = 16.0395364519, step = 1\n",
      "INFO:tensorflow:global_step/sec: 1201.89\n",
      "INFO:tensorflow:loss = 0.275874978346, step = 101 (0.084 sec)\n",
      "INFO:tensorflow:global_step/sec: 1257.12\n",
      "INFO:tensorflow:loss = 0.00780757485609, step = 201 (0.080 sec)\n",
      "INFO:tensorflow:global_step/sec: 1147.96\n",
      "INFO:tensorflow:loss = 0.00184049605371, step = 301 (0.087 sec)\n",
      "INFO:tensorflow:global_step/sec: 1173.36\n",
      "INFO:tensorflow:loss = 2.09689818308e-05, step = 401 (0.085 sec)\n",
      "INFO:tensorflow:global_step/sec: 1365.08\n",
      "INFO:tensorflow:loss = 1.21689855678e-05, step = 501 (0.073 sec)\n",
      "INFO:tensorflow:global_step/sec: 1209.3\n",
      "INFO:tensorflow:loss = 1.98050525512e-06, step = 601 (0.083 sec)\n",
      "INFO:tensorflow:global_step/sec: 1229.47\n",
      "INFO:tensorflow:loss = 1.19275399245e-07, step = 701 (0.081 sec)\n",
      "INFO:tensorflow:global_step/sec: 1248.22\n",
      "INFO:tensorflow:loss = 1.56343744847e-08, step = 801 (0.080 sec)\n",
      "INFO:tensorflow:global_step/sec: 1492.8\n",
      "INFO:tensorflow:loss = 9.69290001716e-10, step = 901 (0.067 sec)\n",
      "INFO:tensorflow:Saving checkpoints for 1000 into /tmp/tmpb_zeu9/model.ckpt.\n",
      "INFO:tensorflow:Loss for final step: 4.46189354248e-11.\n",
      "INFO:tensorflow:Starting evaluation at 2017-06-01-20:03:59\n",
      "INFO:tensorflow:Restoring parameters from /tmp/tmpb_zeu9/model.ckpt-1000\n",
      "INFO:tensorflow:Evaluation [1/10]\n",
      "INFO:tensorflow:Evaluation [2/10]\n",
      "INFO:tensorflow:Evaluation [3/10]\n",
      "INFO:tensorflow:Evaluation [4/10]\n",
      "INFO:tensorflow:Evaluation [5/10]\n",
      "INFO:tensorflow:Evaluation [6/10]\n",
      "INFO:tensorflow:Evaluation [7/10]\n",
      "INFO:tensorflow:Evaluation [8/10]\n",
      "INFO:tensorflow:Evaluation [9/10]\n",
      "INFO:tensorflow:Evaluation [10/10]\n",
      "INFO:tensorflow:Finished evaluation at 2017-06-01-20:03:59\n",
      "INFO:tensorflow:Saving dict for global step 1000: global_step = 1000, loss = 6.223e-11\n",
      "WARNING:tensorflow:Skipping summary for global_step, must be a float or np.float32.\n",
      "{'loss': 6.2230048e-11, 'global_step': 1000}\n"
     ]
    }
   ],
   "source": [
    "import numpy as np\n",
    "import tensorflow as tf\n",
    "# Declare list of features, we only have one real-valued feature\n",
    "def model(features, labels, mode):\n",
    "  # Build a linear model and predict values\n",
    "  W = tf.get_variable(\"W\", [1], dtype=tf.float64)\n",
    "  b = tf.get_variable(\"b\", [1], dtype=tf.float64)\n",
    "  y = W*features['x'] + b\n",
    "  # Loss sub-graph\n",
    "  loss = tf.reduce_sum(tf.square(y - labels))\n",
    "  # Training sub-graph\n",
    "  global_step = tf.train.get_global_step()\n",
    "  optimizer = tf.train.GradientDescentOptimizer(0.01)\n",
    "  train = tf.group(optimizer.minimize(loss),\n",
    "                   tf.assign_add(global_step, 1))\n",
    "  # ModelFnOps connects subgraphs we built to the\n",
    "  # appropriate functionality.\n",
    "  return tf.contrib.learn.ModelFnOps(\n",
    "      mode=mode, predictions=y,\n",
    "      loss=loss,\n",
    "      train_op=train)\n",
    "\n",
    "estimator = tf.contrib.learn.Estimator(model_fn=model)\n",
    "# define our data set\n",
    "x = np.array([1., 2., 3., 4.])\n",
    "y = np.array([0., -1., -2., -3.])\n",
    "input_fn = tf.contrib.learn.io.numpy_input_fn({\"x\": x}, y, 4, num_epochs=1000)\n",
    "\n",
    "# train\n",
    "estimator.fit(input_fn=input_fn, steps=1000)\n",
    "# evaluate our model\n",
    "print(estimator.evaluate(input_fn=input_fn, steps=10))"
   ]
  },
  {
   "cell_type": "code",
   "execution_count": 41,
   "metadata": {},
   "outputs": [
    {
     "data": {
      "text/plain": [
       "'/tmp/tmpb_zeu9'"
      ]
     },
     "execution_count": 41,
     "metadata": {},
     "output_type": "execute_result"
    }
   ],
   "source": [
    "estimator."
   ]
  },
  {
   "cell_type": "code",
   "execution_count": null,
   "metadata": {
    "collapsed": true
   },
   "outputs": [],
   "source": []
  }
 ],
 "metadata": {
  "kernelspec": {
   "display_name": "Python 2",
   "language": "python",
   "name": "python2"
  },
  "language_info": {
   "codemirror_mode": {
    "name": "ipython",
    "version": 2
   },
   "file_extension": ".py",
   "mimetype": "text/x-python",
   "name": "python",
   "nbconvert_exporter": "python",
   "pygments_lexer": "ipython2",
   "version": "2.7.12"
  }
 },
 "nbformat": 4,
 "nbformat_minor": 2
}
